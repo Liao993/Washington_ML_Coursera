{
 "cells": [
  {
   "cell_type": "code",
   "execution_count": 1,
   "metadata": {},
   "outputs": [],
   "source": [
    "import turicreate as tc\n",
    "import numpy as np"
   ]
  },
  {
   "cell_type": "code",
   "execution_count": 2,
   "metadata": {},
   "outputs": [
    {
     "data": {
      "text/html": [
       "<div style=\"max-height:1000px;max-width:1500px;overflow:auto;\"><table frame=\"box\" rules=\"cols\">\n",
       "    <tr>\n",
       "        <th style=\"padding-left: 1em; padding-right: 1em; text-align: center\">user_id</th>\n",
       "        <th style=\"padding-left: 1em; padding-right: 1em; text-align: center\">song_id</th>\n",
       "        <th style=\"padding-left: 1em; padding-right: 1em; text-align: center\">listen_count</th>\n",
       "        <th style=\"padding-left: 1em; padding-right: 1em; text-align: center\">title</th>\n",
       "        <th style=\"padding-left: 1em; padding-right: 1em; text-align: center\">artist</th>\n",
       "    </tr>\n",
       "    <tr>\n",
       "        <td style=\"padding-left: 1em; padding-right: 1em; text-align: center; vertical-align: top\">b80344d063b5ccb3212f76538<br>f3d9e43d87dca9e ...</td>\n",
       "        <td style=\"padding-left: 1em; padding-right: 1em; text-align: center; vertical-align: top\">SOAKIMP12A8C130995</td>\n",
       "        <td style=\"padding-left: 1em; padding-right: 1em; text-align: center; vertical-align: top\">1</td>\n",
       "        <td style=\"padding-left: 1em; padding-right: 1em; text-align: center; vertical-align: top\">The Cove</td>\n",
       "        <td style=\"padding-left: 1em; padding-right: 1em; text-align: center; vertical-align: top\">Jack Johnson</td>\n",
       "    </tr>\n",
       "    <tr>\n",
       "        <td style=\"padding-left: 1em; padding-right: 1em; text-align: center; vertical-align: top\">b80344d063b5ccb3212f76538<br>f3d9e43d87dca9e ...</td>\n",
       "        <td style=\"padding-left: 1em; padding-right: 1em; text-align: center; vertical-align: top\">SOBBMDR12A8C13253B</td>\n",
       "        <td style=\"padding-left: 1em; padding-right: 1em; text-align: center; vertical-align: top\">2</td>\n",
       "        <td style=\"padding-left: 1em; padding-right: 1em; text-align: center; vertical-align: top\">Entre Dos Aguas</td>\n",
       "        <td style=\"padding-left: 1em; padding-right: 1em; text-align: center; vertical-align: top\">Paco De Lucia</td>\n",
       "    </tr>\n",
       "</table>\n",
       "<table frame=\"box\" rules=\"cols\">\n",
       "    <tr>\n",
       "        <th style=\"padding-left: 1em; padding-right: 1em; text-align: center\">song</th>\n",
       "    </tr>\n",
       "    <tr>\n",
       "        <td style=\"padding-left: 1em; padding-right: 1em; text-align: center; vertical-align: top\">The Cove - Jack Johnson</td>\n",
       "    </tr>\n",
       "    <tr>\n",
       "        <td style=\"padding-left: 1em; padding-right: 1em; text-align: center; vertical-align: top\">Entre Dos Aguas - Paco De<br>Lucia ...</td>\n",
       "    </tr>\n",
       "</table>\n",
       "[2 rows x 6 columns]<br/>\n",
       "</div>"
      ],
      "text/plain": [
       "Columns:\n",
       "\tuser_id\tstr\n",
       "\tsong_id\tstr\n",
       "\tlisten_count\tint\n",
       "\ttitle\tstr\n",
       "\tartist\tstr\n",
       "\tsong\tstr\n",
       "\n",
       "Rows: 2\n",
       "\n",
       "Data:\n",
       "+-------------------------------+--------------------+--------------+\n",
       "|            user_id            |      song_id       | listen_count |\n",
       "+-------------------------------+--------------------+--------------+\n",
       "| b80344d063b5ccb3212f76538f... | SOAKIMP12A8C130995 |      1       |\n",
       "| b80344d063b5ccb3212f76538f... | SOBBMDR12A8C13253B |      2       |\n",
       "+-------------------------------+--------------------+--------------+\n",
       "+-----------------+---------------+-------------------------------+\n",
       "|      title      |     artist    |              song             |\n",
       "+-----------------+---------------+-------------------------------+\n",
       "|     The Cove    |  Jack Johnson |    The Cove - Jack Johnson    |\n",
       "| Entre Dos Aguas | Paco De Lucia | Entre Dos Aguas - Paco De ... |\n",
       "+-----------------+---------------+-------------------------------+\n",
       "[2 rows x 6 columns]"
      ]
     },
     "execution_count": 2,
     "metadata": {},
     "output_type": "execute_result"
    }
   ],
   "source": [
    "song = tc.SFrame('~/Desktop/song1_data.sframe')\n",
    "song.head(2)"
   ]
  },
  {
   "cell_type": "code",
   "execution_count": 11,
   "metadata": {},
   "outputs": [
    {
     "data": {
      "text/plain": [
       "1116609"
      ]
     },
     "execution_count": 11,
     "metadata": {},
     "output_type": "execute_result"
    }
   ],
   "source": [
    "len(song)"
   ]
  },
  {
   "cell_type": "code",
   "execution_count": 16,
   "metadata": {},
   "outputs": [
    {
     "data": {
      "text/plain": [
       "66346"
      ]
     },
     "execution_count": 16,
     "metadata": {},
     "output_type": "execute_result"
    }
   ],
   "source": [
    "len(users) "
   ]
  },
  {
   "cell_type": "code",
   "execution_count": 20,
   "metadata": {},
   "outputs": [
    {
     "data": {
      "text/html": [
       "<div style=\"max-height:1000px;max-width:1500px;overflow:auto;\"><table frame=\"box\" rules=\"cols\">\n",
       "    <tr>\n",
       "        <th style=\"padding-left: 1em; padding-right: 1em; text-align: center\">user_id</th>\n",
       "        <th style=\"padding-left: 1em; padding-right: 1em; text-align: center\">song_id</th>\n",
       "        <th style=\"padding-left: 1em; padding-right: 1em; text-align: center\">listen_count</th>\n",
       "        <th style=\"padding-left: 1em; padding-right: 1em; text-align: center\">title</th>\n",
       "        <th style=\"padding-left: 1em; padding-right: 1em; text-align: center\">artist</th>\n",
       "        <th style=\"padding-left: 1em; padding-right: 1em; text-align: center\">song</th>\n",
       "    </tr>\n",
       "    <tr>\n",
       "        <td style=\"padding-left: 1em; padding-right: 1em; text-align: center; vertical-align: top\">b80344d063b5ccb3212f76538<br>f3d9e43d87dca9e ...</td>\n",
       "        <td style=\"padding-left: 1em; padding-right: 1em; text-align: center; vertical-align: top\">SOAKIMP12A8C130995</td>\n",
       "        <td style=\"padding-left: 1em; padding-right: 1em; text-align: center; vertical-align: top\">1</td>\n",
       "        <td style=\"padding-left: 1em; padding-right: 1em; text-align: center; vertical-align: top\">The Cove</td>\n",
       "        <td style=\"padding-left: 1em; padding-right: 1em; text-align: center; vertical-align: top\">Jack Johnson</td>\n",
       "        <td style=\"padding-left: 1em; padding-right: 1em; text-align: center; vertical-align: top\">The Cove - Jack Johnson</td>\n",
       "    </tr>\n",
       "    <tr>\n",
       "        <td style=\"padding-left: 1em; padding-right: 1em; text-align: center; vertical-align: top\">7a4b8e7d2905d13422418b4f4<br>8cc85100892e013 ...</td>\n",
       "        <td style=\"padding-left: 1em; padding-right: 1em; text-align: center; vertical-align: top\">SOAKIMP12A8C130995</td>\n",
       "        <td style=\"padding-left: 1em; padding-right: 1em; text-align: center; vertical-align: top\">6</td>\n",
       "        <td style=\"padding-left: 1em; padding-right: 1em; text-align: center; vertical-align: top\">The Cove</td>\n",
       "        <td style=\"padding-left: 1em; padding-right: 1em; text-align: center; vertical-align: top\">Jack Johnson</td>\n",
       "        <td style=\"padding-left: 1em; padding-right: 1em; text-align: center; vertical-align: top\">The Cove - Jack Johnson</td>\n",
       "    </tr>\n",
       "</table>\n",
       "[2 rows x 6 columns]<br/>\n",
       "</div>"
      ],
      "text/plain": [
       "Columns:\n",
       "\tuser_id\tstr\n",
       "\tsong_id\tstr\n",
       "\tlisten_count\tint\n",
       "\ttitle\tstr\n",
       "\tartist\tstr\n",
       "\tsong\tstr\n",
       "\n",
       "Rows: 2\n",
       "\n",
       "Data:\n",
       "+-------------------------------+--------------------+--------------+----------+\n",
       "|            user_id            |      song_id       | listen_count |  title   |\n",
       "+-------------------------------+--------------------+--------------+----------+\n",
       "| b80344d063b5ccb3212f76538f... | SOAKIMP12A8C130995 |      1       | The Cove |\n",
       "| 7a4b8e7d2905d13422418b4f48... | SOAKIMP12A8C130995 |      6       | The Cove |\n",
       "+-------------------------------+--------------------+--------------+----------+\n",
       "+--------------+-------------------------+\n",
       "|    artist    |           song          |\n",
       "+--------------+-------------------------+\n",
       "| Jack Johnson | The Cove - Jack Johnson |\n",
       "| Jack Johnson | The Cove - Jack Johnson |\n",
       "+--------------+-------------------------+\n",
       "[2 rows x 6 columns]"
      ]
     },
     "execution_count": 20,
     "metadata": {},
     "output_type": "execute_result"
    }
   ],
   "source": [
    "song[song['song_id'] == 'SOAKIMP12A8C130995'].head(2)"
   ]
  },
  {
   "cell_type": "markdown",
   "metadata": {},
   "source": [
    "相同的song_id 其 artist, song 會一樣"
   ]
  },
  {
   "cell_type": "markdown",
   "metadata": {},
   "source": [
    "## question_1\n",
    "Which of the artists below have had the most unique users listening to their songs?\n",
    "\n",
    " 'Kanye West', 'Foo Fighters', 'Taylor Swift' and 'Lady GaGa'"
   ]
  },
  {
   "cell_type": "code",
   "execution_count": 12,
   "metadata": {},
   "outputs": [],
   "source": [
    "#'Kanye West'\n",
    "KW = song[song['artist'] == 'Kanye West']\n",
    "KWu = KW.unique()\n",
    "# 'Foo Fighters'\n",
    "FF = song[song['artist'] ==  'Foo Fighters']\n",
    "FFu = FF.unique()\n",
    "#'Taylor Swift'\n",
    "TS = song[song['artist'] == 'Taylor Swift']\n",
    "TSu = TS.unique()\n",
    "#'Lady GaGa'\n",
    "LG = song[song['artist'] == 'Lady GaGa']\n",
    "LGu = LG.unique()"
   ]
  },
  {
   "cell_type": "code",
   "execution_count": 14,
   "metadata": {},
   "outputs": [
    {
     "name": "stdout",
     "output_type": "stream",
     "text": [
      "Kanye West : 3775\n",
      "Foo Fighters : 3429\n",
      "Taylor Swift : 6227\n",
      "Lady GaGa : 4129\n"
     ]
    }
   ],
   "source": [
    "print('{} : {}'.format('Kanye West',len(KWu)))\n",
    "\n",
    "print('{} : {}'.format('Foo Fighters',len(FFu)))\n",
    "\n",
    "print('{} : {}'.format('Taylor Swift',len(TSu)))\n",
    "\n",
    "print('{} : {}'.format('Lady GaGa',len(LGu)))"
   ]
  },
  {
   "cell_type": "markdown",
   "metadata": {},
   "source": [
    "### answer_1 : taylor swift"
   ]
  },
  {
   "cell_type": "markdown",
   "metadata": {},
   "source": [
    "## question_2\n",
    "\n",
    "Which of the artists below is the most popular artist, the one with highest total listen_count, in the data set?"
   ]
  },
  {
   "cell_type": "markdown",
   "metadata": {},
   "source": [
    "groupby\n",
    "\n",
    "https://turi.com/products/create/docs/generated/graphlab.SFrame.groupby.html#graphlab.SFrame.groupby\n",
    "\n",
    "user_rating_stats = sf.groupby(key_columns='user_id',\n",
    "...                                operations={\n",
    "...                                    'mean_rating': agg.MEAN('rating'),\n",
    "...                                    'std_rating': agg.STD('rating')\n",
    "...                                })"
   ]
  },
  {
   "cell_type": "code",
   "execution_count": 49,
   "metadata": {},
   "outputs": [],
   "source": [
    "King = song[song[\"artist\"] == \"Kings Of Leon\"]\n",
    "ColdP = song[song[\"artist\"] == \"Coldplay\"]"
   ]
  },
  {
   "cell_type": "code",
   "execution_count": 50,
   "metadata": {},
   "outputs": [],
   "source": [
    "sumkl = King.groupby('artist', operations={'SUM' : tc.aggregate.SUM('listen_count')})\n",
    "sumcp = ColdP.groupby('artist', operations={'SUM' : tc.aggregate.SUM('listen_count')})\n",
    "sumts = TS.groupby('artist', operations={'SUM' : tc.aggregate.SUM('listen_count')})\n",
    "sumlg = LG.groupby('artist', operations={'SUM' : tc.aggregate.SUM('listen_count')})"
   ]
  },
  {
   "cell_type": "code",
   "execution_count": 52,
   "metadata": {},
   "outputs": [
    {
     "name": "stdout",
     "output_type": "stream",
     "text": [
      "Kings Of Lean : [43218]\n",
      "Coldplay : [35362]\n",
      "Taylor Swift : [19376]\n",
      "Lady GaGa : [12224]\n"
     ]
    }
   ],
   "source": [
    "print('{} : {}'.format(\"Kings Of Lean\",sumkl[\"SUM\"]))\n",
    "\n",
    "print('{} : {}'.format(\"Coldplay\",sumcp[\"SUM\"]))\n",
    "\n",
    "print('{} : {}'.format('Taylor Swift', sumts[\"SUM\"]))\n",
    "\n",
    "print('{} : {}'.format('Lady GaGa',sumlg[\"SUM\"]))"
   ]
  },
  {
   "cell_type": "markdown",
   "metadata": {},
   "source": [
    "#### answer_2 : Lady GaGa"
   ]
  },
  {
   "cell_type": "markdown",
   "metadata": {},
   "source": [
    "## question_3\n",
    "\n",
    "Which of the artists below is the least popular artist, the one with smallest total listen_count, in the data set?\n",
    "\n",
    "'William Tabbert', \"Velvet Underground\", \"kanye West\", \"The Cool Kids\""
   ]
  },
  {
   "cell_type": "code",
   "execution_count": 38,
   "metadata": {},
   "outputs": [],
   "source": [
    "#'Kanye West'\n",
    "WT = song[song['artist'] == 'William Tabbert']\n",
    "\n",
    "# 'Foo Fighters'\n",
    "VU = song[song['artist'] ==  \"Velvet Underground & Nico\"]\n",
    "\n",
    "#'Taylor Swift'\n",
    "KW = song[song['artist'] == \"Kanye West\"]\n",
    "\n",
    "#'Lady GaGa'\n",
    "TCK = song[song['artist'] == \"The Cool Kids\"]\n"
   ]
  },
  {
   "cell_type": "code",
   "execution_count": 39,
   "metadata": {},
   "outputs": [],
   "source": [
    "sumwt = WT.groupby('artist', operations={'SUM' : tc.aggregate.SUM('listen_count')})\n",
    "sumvu = VU.groupby('artist', operations={'SUM' : tc.aggregate.SUM('listen_count')})\n",
    "sumkw = KW.groupby('artist', operations={'SUM' : tc.aggregate.SUM('listen_count')})\n",
    "sumtck = TCK.groupby('artist', operations={'SUM' : tc.aggregate.SUM('listen_count')})"
   ]
  },
  {
   "cell_type": "code",
   "execution_count": 40,
   "metadata": {},
   "outputs": [
    {
     "name": "stdout",
     "output_type": "stream",
     "text": [
      "William Tabbert : [14]\n",
      "Velvet Underground : [80]\n",
      "Kanye West : [9992]\n",
      "The Cool Kids : [73]\n"
     ]
    }
   ],
   "source": [
    "print('{} : {}'.format('William Tabbert',sumwt[\"SUM\"]))\n",
    "\n",
    "print('{} : {}'.format(\"Velvet Underground\",sumvu[\"SUM\"]))\n",
    "\n",
    "print('{} : {}'.format(\"Kanye West\", sumkw[\"SUM\"]))\n",
    "\n",
    "print('{} : {}'.format(\"The Cool Kids\",sumtck[\"SUM\"]))"
   ]
  },
  {
   "cell_type": "code",
   "execution_count": null,
   "metadata": {},
   "outputs": [],
   "source": []
  }
 ],
 "metadata": {
  "kernelspec": {
   "display_name": "Python 3",
   "language": "python",
   "name": "python3"
  },
  "language_info": {
   "codemirror_mode": {
    "name": "ipython",
    "version": 3
   },
   "file_extension": ".py",
   "mimetype": "text/x-python",
   "name": "python",
   "nbconvert_exporter": "python",
   "pygments_lexer": "ipython3",
   "version": "3.7.7"
  },
  "toc": {
   "base_numbering": 1,
   "nav_menu": {},
   "number_sections": true,
   "sideBar": true,
   "skip_h1_title": false,
   "title_cell": "Table of Contents",
   "title_sidebar": "Contents",
   "toc_cell": false,
   "toc_position": {},
   "toc_section_display": true,
   "toc_window_display": false
  }
 },
 "nbformat": 4,
 "nbformat_minor": 4
}
