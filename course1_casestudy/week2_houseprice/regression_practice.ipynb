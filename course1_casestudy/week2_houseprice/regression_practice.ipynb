{
 "cells": [
  {
   "cell_type": "markdown",
   "metadata": {},
   "source": [
    "# turicreate tutorial"
   ]
  },
  {
   "cell_type": "markdown",
   "metadata": {},
   "source": [
    "https://github.com/apple/turicreate#installation"
   ]
  },
  {
   "cell_type": "markdown",
   "metadata": {},
   "source": [
    "# Fire up graphlab create and import data"
   ]
  },
  {
   "cell_type": "code",
   "execution_count": 1,
   "metadata": {},
   "outputs": [],
   "source": [
    "import turicreate as tc"
   ]
  },
  {
   "cell_type": "code",
   "execution_count": 2,
   "metadata": {},
   "outputs": [],
   "source": [
    "data1 = tc.SFrame(\"home_data.sframe\")"
   ]
  },
  {
   "cell_type": "code",
   "execution_count": 3,
   "metadata": {},
   "outputs": [
    {
     "data": {
      "text/html": [
       "<div style=\"max-height:1000px;max-width:1500px;overflow:auto;\"><table frame=\"box\" rules=\"cols\">\n",
       "    <tr>\n",
       "        <th style=\"padding-left: 1em; padding-right: 1em; text-align: center\">id</th>\n",
       "        <th style=\"padding-left: 1em; padding-right: 1em; text-align: center\">date</th>\n",
       "        <th style=\"padding-left: 1em; padding-right: 1em; text-align: center\">price</th>\n",
       "        <th style=\"padding-left: 1em; padding-right: 1em; text-align: center\">bedrooms</th>\n",
       "        <th style=\"padding-left: 1em; padding-right: 1em; text-align: center\">bathrooms</th>\n",
       "        <th style=\"padding-left: 1em; padding-right: 1em; text-align: center\">sqft_living</th>\n",
       "        <th style=\"padding-left: 1em; padding-right: 1em; text-align: center\">sqft_lot</th>\n",
       "        <th style=\"padding-left: 1em; padding-right: 1em; text-align: center\">floors</th>\n",
       "        <th style=\"padding-left: 1em; padding-right: 1em; text-align: center\">waterfront</th>\n",
       "    </tr>\n",
       "    <tr>\n",
       "        <td style=\"padding-left: 1em; padding-right: 1em; text-align: center; vertical-align: top\">7129300520</td>\n",
       "        <td style=\"padding-left: 1em; padding-right: 1em; text-align: center; vertical-align: top\">2014-10-13 00:00:00+00:00</td>\n",
       "        <td style=\"padding-left: 1em; padding-right: 1em; text-align: center; vertical-align: top\">221900.0</td>\n",
       "        <td style=\"padding-left: 1em; padding-right: 1em; text-align: center; vertical-align: top\">3.0</td>\n",
       "        <td style=\"padding-left: 1em; padding-right: 1em; text-align: center; vertical-align: top\">1.0</td>\n",
       "        <td style=\"padding-left: 1em; padding-right: 1em; text-align: center; vertical-align: top\">1180.0</td>\n",
       "        <td style=\"padding-left: 1em; padding-right: 1em; text-align: center; vertical-align: top\">5650.0</td>\n",
       "        <td style=\"padding-left: 1em; padding-right: 1em; text-align: center; vertical-align: top\">1.0</td>\n",
       "        <td style=\"padding-left: 1em; padding-right: 1em; text-align: center; vertical-align: top\">0</td>\n",
       "    </tr>\n",
       "    <tr>\n",
       "        <td style=\"padding-left: 1em; padding-right: 1em; text-align: center; vertical-align: top\">6414100192</td>\n",
       "        <td style=\"padding-left: 1em; padding-right: 1em; text-align: center; vertical-align: top\">2014-12-09 00:00:00+00:00</td>\n",
       "        <td style=\"padding-left: 1em; padding-right: 1em; text-align: center; vertical-align: top\">538000.0</td>\n",
       "        <td style=\"padding-left: 1em; padding-right: 1em; text-align: center; vertical-align: top\">3.0</td>\n",
       "        <td style=\"padding-left: 1em; padding-right: 1em; text-align: center; vertical-align: top\">2.25</td>\n",
       "        <td style=\"padding-left: 1em; padding-right: 1em; text-align: center; vertical-align: top\">2570.0</td>\n",
       "        <td style=\"padding-left: 1em; padding-right: 1em; text-align: center; vertical-align: top\">7242.0</td>\n",
       "        <td style=\"padding-left: 1em; padding-right: 1em; text-align: center; vertical-align: top\">2.0</td>\n",
       "        <td style=\"padding-left: 1em; padding-right: 1em; text-align: center; vertical-align: top\">0</td>\n",
       "    </tr>\n",
       "    <tr>\n",
       "        <td style=\"padding-left: 1em; padding-right: 1em; text-align: center; vertical-align: top\">5631500400</td>\n",
       "        <td style=\"padding-left: 1em; padding-right: 1em; text-align: center; vertical-align: top\">2015-02-25 00:00:00+00:00</td>\n",
       "        <td style=\"padding-left: 1em; padding-right: 1em; text-align: center; vertical-align: top\">180000.0</td>\n",
       "        <td style=\"padding-left: 1em; padding-right: 1em; text-align: center; vertical-align: top\">2.0</td>\n",
       "        <td style=\"padding-left: 1em; padding-right: 1em; text-align: center; vertical-align: top\">1.0</td>\n",
       "        <td style=\"padding-left: 1em; padding-right: 1em; text-align: center; vertical-align: top\">770.0</td>\n",
       "        <td style=\"padding-left: 1em; padding-right: 1em; text-align: center; vertical-align: top\">10000.0</td>\n",
       "        <td style=\"padding-left: 1em; padding-right: 1em; text-align: center; vertical-align: top\">1.0</td>\n",
       "        <td style=\"padding-left: 1em; padding-right: 1em; text-align: center; vertical-align: top\">0</td>\n",
       "    </tr>\n",
       "    <tr>\n",
       "        <td style=\"padding-left: 1em; padding-right: 1em; text-align: center; vertical-align: top\">2487200875</td>\n",
       "        <td style=\"padding-left: 1em; padding-right: 1em; text-align: center; vertical-align: top\">2014-12-09 00:00:00+00:00</td>\n",
       "        <td style=\"padding-left: 1em; padding-right: 1em; text-align: center; vertical-align: top\">604000.0</td>\n",
       "        <td style=\"padding-left: 1em; padding-right: 1em; text-align: center; vertical-align: top\">4.0</td>\n",
       "        <td style=\"padding-left: 1em; padding-right: 1em; text-align: center; vertical-align: top\">3.0</td>\n",
       "        <td style=\"padding-left: 1em; padding-right: 1em; text-align: center; vertical-align: top\">1960.0</td>\n",
       "        <td style=\"padding-left: 1em; padding-right: 1em; text-align: center; vertical-align: top\">5000.0</td>\n",
       "        <td style=\"padding-left: 1em; padding-right: 1em; text-align: center; vertical-align: top\">1.0</td>\n",
       "        <td style=\"padding-left: 1em; padding-right: 1em; text-align: center; vertical-align: top\">0</td>\n",
       "    </tr>\n",
       "    <tr>\n",
       "        <td style=\"padding-left: 1em; padding-right: 1em; text-align: center; vertical-align: top\">1954400510</td>\n",
       "        <td style=\"padding-left: 1em; padding-right: 1em; text-align: center; vertical-align: top\">2015-02-18 00:00:00+00:00</td>\n",
       "        <td style=\"padding-left: 1em; padding-right: 1em; text-align: center; vertical-align: top\">510000.0</td>\n",
       "        <td style=\"padding-left: 1em; padding-right: 1em; text-align: center; vertical-align: top\">3.0</td>\n",
       "        <td style=\"padding-left: 1em; padding-right: 1em; text-align: center; vertical-align: top\">2.0</td>\n",
       "        <td style=\"padding-left: 1em; padding-right: 1em; text-align: center; vertical-align: top\">1680.0</td>\n",
       "        <td style=\"padding-left: 1em; padding-right: 1em; text-align: center; vertical-align: top\">8080.0</td>\n",
       "        <td style=\"padding-left: 1em; padding-right: 1em; text-align: center; vertical-align: top\">1.0</td>\n",
       "        <td style=\"padding-left: 1em; padding-right: 1em; text-align: center; vertical-align: top\">0</td>\n",
       "    </tr>\n",
       "    <tr>\n",
       "        <td style=\"padding-left: 1em; padding-right: 1em; text-align: center; vertical-align: top\">7237550310</td>\n",
       "        <td style=\"padding-left: 1em; padding-right: 1em; text-align: center; vertical-align: top\">2014-05-12 00:00:00+00:00</td>\n",
       "        <td style=\"padding-left: 1em; padding-right: 1em; text-align: center; vertical-align: top\">1225000.0</td>\n",
       "        <td style=\"padding-left: 1em; padding-right: 1em; text-align: center; vertical-align: top\">4.0</td>\n",
       "        <td style=\"padding-left: 1em; padding-right: 1em; text-align: center; vertical-align: top\">4.5</td>\n",
       "        <td style=\"padding-left: 1em; padding-right: 1em; text-align: center; vertical-align: top\">5420.0</td>\n",
       "        <td style=\"padding-left: 1em; padding-right: 1em; text-align: center; vertical-align: top\">101930.0</td>\n",
       "        <td style=\"padding-left: 1em; padding-right: 1em; text-align: center; vertical-align: top\">1.0</td>\n",
       "        <td style=\"padding-left: 1em; padding-right: 1em; text-align: center; vertical-align: top\">0</td>\n",
       "    </tr>\n",
       "    <tr>\n",
       "        <td style=\"padding-left: 1em; padding-right: 1em; text-align: center; vertical-align: top\">1321400060</td>\n",
       "        <td style=\"padding-left: 1em; padding-right: 1em; text-align: center; vertical-align: top\">2014-06-27 00:00:00+00:00</td>\n",
       "        <td style=\"padding-left: 1em; padding-right: 1em; text-align: center; vertical-align: top\">257500.0</td>\n",
       "        <td style=\"padding-left: 1em; padding-right: 1em; text-align: center; vertical-align: top\">3.0</td>\n",
       "        <td style=\"padding-left: 1em; padding-right: 1em; text-align: center; vertical-align: top\">2.25</td>\n",
       "        <td style=\"padding-left: 1em; padding-right: 1em; text-align: center; vertical-align: top\">1715.0</td>\n",
       "        <td style=\"padding-left: 1em; padding-right: 1em; text-align: center; vertical-align: top\">6819.0</td>\n",
       "        <td style=\"padding-left: 1em; padding-right: 1em; text-align: center; vertical-align: top\">2.0</td>\n",
       "        <td style=\"padding-left: 1em; padding-right: 1em; text-align: center; vertical-align: top\">0</td>\n",
       "    </tr>\n",
       "    <tr>\n",
       "        <td style=\"padding-left: 1em; padding-right: 1em; text-align: center; vertical-align: top\">2008000270</td>\n",
       "        <td style=\"padding-left: 1em; padding-right: 1em; text-align: center; vertical-align: top\">2015-01-15 00:00:00+00:00</td>\n",
       "        <td style=\"padding-left: 1em; padding-right: 1em; text-align: center; vertical-align: top\">291850.0</td>\n",
       "        <td style=\"padding-left: 1em; padding-right: 1em; text-align: center; vertical-align: top\">3.0</td>\n",
       "        <td style=\"padding-left: 1em; padding-right: 1em; text-align: center; vertical-align: top\">1.5</td>\n",
       "        <td style=\"padding-left: 1em; padding-right: 1em; text-align: center; vertical-align: top\">1060.0</td>\n",
       "        <td style=\"padding-left: 1em; padding-right: 1em; text-align: center; vertical-align: top\">9711.0</td>\n",
       "        <td style=\"padding-left: 1em; padding-right: 1em; text-align: center; vertical-align: top\">1.0</td>\n",
       "        <td style=\"padding-left: 1em; padding-right: 1em; text-align: center; vertical-align: top\">0</td>\n",
       "    </tr>\n",
       "    <tr>\n",
       "        <td style=\"padding-left: 1em; padding-right: 1em; text-align: center; vertical-align: top\">2414600126</td>\n",
       "        <td style=\"padding-left: 1em; padding-right: 1em; text-align: center; vertical-align: top\">2015-04-15 00:00:00+00:00</td>\n",
       "        <td style=\"padding-left: 1em; padding-right: 1em; text-align: center; vertical-align: top\">229500.0</td>\n",
       "        <td style=\"padding-left: 1em; padding-right: 1em; text-align: center; vertical-align: top\">3.0</td>\n",
       "        <td style=\"padding-left: 1em; padding-right: 1em; text-align: center; vertical-align: top\">1.0</td>\n",
       "        <td style=\"padding-left: 1em; padding-right: 1em; text-align: center; vertical-align: top\">1780.0</td>\n",
       "        <td style=\"padding-left: 1em; padding-right: 1em; text-align: center; vertical-align: top\">7470.0</td>\n",
       "        <td style=\"padding-left: 1em; padding-right: 1em; text-align: center; vertical-align: top\">1.0</td>\n",
       "        <td style=\"padding-left: 1em; padding-right: 1em; text-align: center; vertical-align: top\">0</td>\n",
       "    </tr>\n",
       "    <tr>\n",
       "        <td style=\"padding-left: 1em; padding-right: 1em; text-align: center; vertical-align: top\">3793500160</td>\n",
       "        <td style=\"padding-left: 1em; padding-right: 1em; text-align: center; vertical-align: top\">2015-03-12 00:00:00+00:00</td>\n",
       "        <td style=\"padding-left: 1em; padding-right: 1em; text-align: center; vertical-align: top\">323000.0</td>\n",
       "        <td style=\"padding-left: 1em; padding-right: 1em; text-align: center; vertical-align: top\">3.0</td>\n",
       "        <td style=\"padding-left: 1em; padding-right: 1em; text-align: center; vertical-align: top\">2.5</td>\n",
       "        <td style=\"padding-left: 1em; padding-right: 1em; text-align: center; vertical-align: top\">1890.0</td>\n",
       "        <td style=\"padding-left: 1em; padding-right: 1em; text-align: center; vertical-align: top\">6560.0</td>\n",
       "        <td style=\"padding-left: 1em; padding-right: 1em; text-align: center; vertical-align: top\">2.0</td>\n",
       "        <td style=\"padding-left: 1em; padding-right: 1em; text-align: center; vertical-align: top\">0</td>\n",
       "    </tr>\n",
       "</table>\n",
       "<table frame=\"box\" rules=\"cols\">\n",
       "    <tr>\n",
       "        <th style=\"padding-left: 1em; padding-right: 1em; text-align: center\">view</th>\n",
       "        <th style=\"padding-left: 1em; padding-right: 1em; text-align: center\">condition</th>\n",
       "        <th style=\"padding-left: 1em; padding-right: 1em; text-align: center\">grade</th>\n",
       "        <th style=\"padding-left: 1em; padding-right: 1em; text-align: center\">sqft_above</th>\n",
       "        <th style=\"padding-left: 1em; padding-right: 1em; text-align: center\">sqft_basement</th>\n",
       "        <th style=\"padding-left: 1em; padding-right: 1em; text-align: center\">yr_built</th>\n",
       "        <th style=\"padding-left: 1em; padding-right: 1em; text-align: center\">yr_renovated</th>\n",
       "        <th style=\"padding-left: 1em; padding-right: 1em; text-align: center\">zipcode</th>\n",
       "        <th style=\"padding-left: 1em; padding-right: 1em; text-align: center\">lat</th>\n",
       "    </tr>\n",
       "    <tr>\n",
       "        <td style=\"padding-left: 1em; padding-right: 1em; text-align: center; vertical-align: top\">0</td>\n",
       "        <td style=\"padding-left: 1em; padding-right: 1em; text-align: center; vertical-align: top\">3</td>\n",
       "        <td style=\"padding-left: 1em; padding-right: 1em; text-align: center; vertical-align: top\">7.0</td>\n",
       "        <td style=\"padding-left: 1em; padding-right: 1em; text-align: center; vertical-align: top\">1180.0</td>\n",
       "        <td style=\"padding-left: 1em; padding-right: 1em; text-align: center; vertical-align: top\">0.0</td>\n",
       "        <td style=\"padding-left: 1em; padding-right: 1em; text-align: center; vertical-align: top\">1955.0</td>\n",
       "        <td style=\"padding-left: 1em; padding-right: 1em; text-align: center; vertical-align: top\">0.0</td>\n",
       "        <td style=\"padding-left: 1em; padding-right: 1em; text-align: center; vertical-align: top\">98178</td>\n",
       "        <td style=\"padding-left: 1em; padding-right: 1em; text-align: center; vertical-align: top\">47.51123398</td>\n",
       "    </tr>\n",
       "    <tr>\n",
       "        <td style=\"padding-left: 1em; padding-right: 1em; text-align: center; vertical-align: top\">0</td>\n",
       "        <td style=\"padding-left: 1em; padding-right: 1em; text-align: center; vertical-align: top\">3</td>\n",
       "        <td style=\"padding-left: 1em; padding-right: 1em; text-align: center; vertical-align: top\">7.0</td>\n",
       "        <td style=\"padding-left: 1em; padding-right: 1em; text-align: center; vertical-align: top\">2170.0</td>\n",
       "        <td style=\"padding-left: 1em; padding-right: 1em; text-align: center; vertical-align: top\">400.0</td>\n",
       "        <td style=\"padding-left: 1em; padding-right: 1em; text-align: center; vertical-align: top\">1951.0</td>\n",
       "        <td style=\"padding-left: 1em; padding-right: 1em; text-align: center; vertical-align: top\">1991.0</td>\n",
       "        <td style=\"padding-left: 1em; padding-right: 1em; text-align: center; vertical-align: top\">98125</td>\n",
       "        <td style=\"padding-left: 1em; padding-right: 1em; text-align: center; vertical-align: top\">47.72102274</td>\n",
       "    </tr>\n",
       "    <tr>\n",
       "        <td style=\"padding-left: 1em; padding-right: 1em; text-align: center; vertical-align: top\">0</td>\n",
       "        <td style=\"padding-left: 1em; padding-right: 1em; text-align: center; vertical-align: top\">3</td>\n",
       "        <td style=\"padding-left: 1em; padding-right: 1em; text-align: center; vertical-align: top\">6.0</td>\n",
       "        <td style=\"padding-left: 1em; padding-right: 1em; text-align: center; vertical-align: top\">770.0</td>\n",
       "        <td style=\"padding-left: 1em; padding-right: 1em; text-align: center; vertical-align: top\">0.0</td>\n",
       "        <td style=\"padding-left: 1em; padding-right: 1em; text-align: center; vertical-align: top\">1933.0</td>\n",
       "        <td style=\"padding-left: 1em; padding-right: 1em; text-align: center; vertical-align: top\">0.0</td>\n",
       "        <td style=\"padding-left: 1em; padding-right: 1em; text-align: center; vertical-align: top\">98028</td>\n",
       "        <td style=\"padding-left: 1em; padding-right: 1em; text-align: center; vertical-align: top\">47.73792661</td>\n",
       "    </tr>\n",
       "    <tr>\n",
       "        <td style=\"padding-left: 1em; padding-right: 1em; text-align: center; vertical-align: top\">0</td>\n",
       "        <td style=\"padding-left: 1em; padding-right: 1em; text-align: center; vertical-align: top\">5</td>\n",
       "        <td style=\"padding-left: 1em; padding-right: 1em; text-align: center; vertical-align: top\">7.0</td>\n",
       "        <td style=\"padding-left: 1em; padding-right: 1em; text-align: center; vertical-align: top\">1050.0</td>\n",
       "        <td style=\"padding-left: 1em; padding-right: 1em; text-align: center; vertical-align: top\">910.0</td>\n",
       "        <td style=\"padding-left: 1em; padding-right: 1em; text-align: center; vertical-align: top\">1965.0</td>\n",
       "        <td style=\"padding-left: 1em; padding-right: 1em; text-align: center; vertical-align: top\">0.0</td>\n",
       "        <td style=\"padding-left: 1em; padding-right: 1em; text-align: center; vertical-align: top\">98136</td>\n",
       "        <td style=\"padding-left: 1em; padding-right: 1em; text-align: center; vertical-align: top\">47.52082</td>\n",
       "    </tr>\n",
       "    <tr>\n",
       "        <td style=\"padding-left: 1em; padding-right: 1em; text-align: center; vertical-align: top\">0</td>\n",
       "        <td style=\"padding-left: 1em; padding-right: 1em; text-align: center; vertical-align: top\">3</td>\n",
       "        <td style=\"padding-left: 1em; padding-right: 1em; text-align: center; vertical-align: top\">8.0</td>\n",
       "        <td style=\"padding-left: 1em; padding-right: 1em; text-align: center; vertical-align: top\">1680.0</td>\n",
       "        <td style=\"padding-left: 1em; padding-right: 1em; text-align: center; vertical-align: top\">0.0</td>\n",
       "        <td style=\"padding-left: 1em; padding-right: 1em; text-align: center; vertical-align: top\">1987.0</td>\n",
       "        <td style=\"padding-left: 1em; padding-right: 1em; text-align: center; vertical-align: top\">0.0</td>\n",
       "        <td style=\"padding-left: 1em; padding-right: 1em; text-align: center; vertical-align: top\">98074</td>\n",
       "        <td style=\"padding-left: 1em; padding-right: 1em; text-align: center; vertical-align: top\">47.61681228</td>\n",
       "    </tr>\n",
       "    <tr>\n",
       "        <td style=\"padding-left: 1em; padding-right: 1em; text-align: center; vertical-align: top\">0</td>\n",
       "        <td style=\"padding-left: 1em; padding-right: 1em; text-align: center; vertical-align: top\">3</td>\n",
       "        <td style=\"padding-left: 1em; padding-right: 1em; text-align: center; vertical-align: top\">11.0</td>\n",
       "        <td style=\"padding-left: 1em; padding-right: 1em; text-align: center; vertical-align: top\">3890.0</td>\n",
       "        <td style=\"padding-left: 1em; padding-right: 1em; text-align: center; vertical-align: top\">1530.0</td>\n",
       "        <td style=\"padding-left: 1em; padding-right: 1em; text-align: center; vertical-align: top\">2001.0</td>\n",
       "        <td style=\"padding-left: 1em; padding-right: 1em; text-align: center; vertical-align: top\">0.0</td>\n",
       "        <td style=\"padding-left: 1em; padding-right: 1em; text-align: center; vertical-align: top\">98053</td>\n",
       "        <td style=\"padding-left: 1em; padding-right: 1em; text-align: center; vertical-align: top\">47.65611835</td>\n",
       "    </tr>\n",
       "    <tr>\n",
       "        <td style=\"padding-left: 1em; padding-right: 1em; text-align: center; vertical-align: top\">0</td>\n",
       "        <td style=\"padding-left: 1em; padding-right: 1em; text-align: center; vertical-align: top\">3</td>\n",
       "        <td style=\"padding-left: 1em; padding-right: 1em; text-align: center; vertical-align: top\">7.0</td>\n",
       "        <td style=\"padding-left: 1em; padding-right: 1em; text-align: center; vertical-align: top\">1715.0</td>\n",
       "        <td style=\"padding-left: 1em; padding-right: 1em; text-align: center; vertical-align: top\">0.0</td>\n",
       "        <td style=\"padding-left: 1em; padding-right: 1em; text-align: center; vertical-align: top\">1995.0</td>\n",
       "        <td style=\"padding-left: 1em; padding-right: 1em; text-align: center; vertical-align: top\">0.0</td>\n",
       "        <td style=\"padding-left: 1em; padding-right: 1em; text-align: center; vertical-align: top\">98003</td>\n",
       "        <td style=\"padding-left: 1em; padding-right: 1em; text-align: center; vertical-align: top\">47.30972002</td>\n",
       "    </tr>\n",
       "    <tr>\n",
       "        <td style=\"padding-left: 1em; padding-right: 1em; text-align: center; vertical-align: top\">0</td>\n",
       "        <td style=\"padding-left: 1em; padding-right: 1em; text-align: center; vertical-align: top\">3</td>\n",
       "        <td style=\"padding-left: 1em; padding-right: 1em; text-align: center; vertical-align: top\">7.0</td>\n",
       "        <td style=\"padding-left: 1em; padding-right: 1em; text-align: center; vertical-align: top\">1060.0</td>\n",
       "        <td style=\"padding-left: 1em; padding-right: 1em; text-align: center; vertical-align: top\">0.0</td>\n",
       "        <td style=\"padding-left: 1em; padding-right: 1em; text-align: center; vertical-align: top\">1963.0</td>\n",
       "        <td style=\"padding-left: 1em; padding-right: 1em; text-align: center; vertical-align: top\">0.0</td>\n",
       "        <td style=\"padding-left: 1em; padding-right: 1em; text-align: center; vertical-align: top\">98198</td>\n",
       "        <td style=\"padding-left: 1em; padding-right: 1em; text-align: center; vertical-align: top\">47.40949984</td>\n",
       "    </tr>\n",
       "    <tr>\n",
       "        <td style=\"padding-left: 1em; padding-right: 1em; text-align: center; vertical-align: top\">0</td>\n",
       "        <td style=\"padding-left: 1em; padding-right: 1em; text-align: center; vertical-align: top\">3</td>\n",
       "        <td style=\"padding-left: 1em; padding-right: 1em; text-align: center; vertical-align: top\">7.0</td>\n",
       "        <td style=\"padding-left: 1em; padding-right: 1em; text-align: center; vertical-align: top\">1050.0</td>\n",
       "        <td style=\"padding-left: 1em; padding-right: 1em; text-align: center; vertical-align: top\">730.0</td>\n",
       "        <td style=\"padding-left: 1em; padding-right: 1em; text-align: center; vertical-align: top\">1960.0</td>\n",
       "        <td style=\"padding-left: 1em; padding-right: 1em; text-align: center; vertical-align: top\">0.0</td>\n",
       "        <td style=\"padding-left: 1em; padding-right: 1em; text-align: center; vertical-align: top\">98146</td>\n",
       "        <td style=\"padding-left: 1em; padding-right: 1em; text-align: center; vertical-align: top\">47.51229381</td>\n",
       "    </tr>\n",
       "    <tr>\n",
       "        <td style=\"padding-left: 1em; padding-right: 1em; text-align: center; vertical-align: top\">0</td>\n",
       "        <td style=\"padding-left: 1em; padding-right: 1em; text-align: center; vertical-align: top\">3</td>\n",
       "        <td style=\"padding-left: 1em; padding-right: 1em; text-align: center; vertical-align: top\">7.0</td>\n",
       "        <td style=\"padding-left: 1em; padding-right: 1em; text-align: center; vertical-align: top\">1890.0</td>\n",
       "        <td style=\"padding-left: 1em; padding-right: 1em; text-align: center; vertical-align: top\">0.0</td>\n",
       "        <td style=\"padding-left: 1em; padding-right: 1em; text-align: center; vertical-align: top\">2003.0</td>\n",
       "        <td style=\"padding-left: 1em; padding-right: 1em; text-align: center; vertical-align: top\">0.0</td>\n",
       "        <td style=\"padding-left: 1em; padding-right: 1em; text-align: center; vertical-align: top\">98038</td>\n",
       "        <td style=\"padding-left: 1em; padding-right: 1em; text-align: center; vertical-align: top\">47.36840673</td>\n",
       "    </tr>\n",
       "</table>\n",
       "<table frame=\"box\" rules=\"cols\">\n",
       "    <tr>\n",
       "        <th style=\"padding-left: 1em; padding-right: 1em; text-align: center\">long</th>\n",
       "        <th style=\"padding-left: 1em; padding-right: 1em; text-align: center\">sqft_living15</th>\n",
       "        <th style=\"padding-left: 1em; padding-right: 1em; text-align: center\">sqft_lot15</th>\n",
       "    </tr>\n",
       "    <tr>\n",
       "        <td style=\"padding-left: 1em; padding-right: 1em; text-align: center; vertical-align: top\">-122.25677536</td>\n",
       "        <td style=\"padding-left: 1em; padding-right: 1em; text-align: center; vertical-align: top\">1340.0</td>\n",
       "        <td style=\"padding-left: 1em; padding-right: 1em; text-align: center; vertical-align: top\">5650.0</td>\n",
       "    </tr>\n",
       "    <tr>\n",
       "        <td style=\"padding-left: 1em; padding-right: 1em; text-align: center; vertical-align: top\">-122.3188624</td>\n",
       "        <td style=\"padding-left: 1em; padding-right: 1em; text-align: center; vertical-align: top\">1690.0</td>\n",
       "        <td style=\"padding-left: 1em; padding-right: 1em; text-align: center; vertical-align: top\">7639.0</td>\n",
       "    </tr>\n",
       "    <tr>\n",
       "        <td style=\"padding-left: 1em; padding-right: 1em; text-align: center; vertical-align: top\">-122.23319601</td>\n",
       "        <td style=\"padding-left: 1em; padding-right: 1em; text-align: center; vertical-align: top\">2720.0</td>\n",
       "        <td style=\"padding-left: 1em; padding-right: 1em; text-align: center; vertical-align: top\">8062.0</td>\n",
       "    </tr>\n",
       "    <tr>\n",
       "        <td style=\"padding-left: 1em; padding-right: 1em; text-align: center; vertical-align: top\">-122.39318505</td>\n",
       "        <td style=\"padding-left: 1em; padding-right: 1em; text-align: center; vertical-align: top\">1360.0</td>\n",
       "        <td style=\"padding-left: 1em; padding-right: 1em; text-align: center; vertical-align: top\">5000.0</td>\n",
       "    </tr>\n",
       "    <tr>\n",
       "        <td style=\"padding-left: 1em; padding-right: 1em; text-align: center; vertical-align: top\">-122.04490059</td>\n",
       "        <td style=\"padding-left: 1em; padding-right: 1em; text-align: center; vertical-align: top\">1800.0</td>\n",
       "        <td style=\"padding-left: 1em; padding-right: 1em; text-align: center; vertical-align: top\">7503.0</td>\n",
       "    </tr>\n",
       "    <tr>\n",
       "        <td style=\"padding-left: 1em; padding-right: 1em; text-align: center; vertical-align: top\">-122.00528655</td>\n",
       "        <td style=\"padding-left: 1em; padding-right: 1em; text-align: center; vertical-align: top\">4760.0</td>\n",
       "        <td style=\"padding-left: 1em; padding-right: 1em; text-align: center; vertical-align: top\">101930.0</td>\n",
       "    </tr>\n",
       "    <tr>\n",
       "        <td style=\"padding-left: 1em; padding-right: 1em; text-align: center; vertical-align: top\">-122.32704857</td>\n",
       "        <td style=\"padding-left: 1em; padding-right: 1em; text-align: center; vertical-align: top\">2238.0</td>\n",
       "        <td style=\"padding-left: 1em; padding-right: 1em; text-align: center; vertical-align: top\">6819.0</td>\n",
       "    </tr>\n",
       "    <tr>\n",
       "        <td style=\"padding-left: 1em; padding-right: 1em; text-align: center; vertical-align: top\">-122.31457273</td>\n",
       "        <td style=\"padding-left: 1em; padding-right: 1em; text-align: center; vertical-align: top\">1650.0</td>\n",
       "        <td style=\"padding-left: 1em; padding-right: 1em; text-align: center; vertical-align: top\">9711.0</td>\n",
       "    </tr>\n",
       "    <tr>\n",
       "        <td style=\"padding-left: 1em; padding-right: 1em; text-align: center; vertical-align: top\">-122.33659507</td>\n",
       "        <td style=\"padding-left: 1em; padding-right: 1em; text-align: center; vertical-align: top\">1780.0</td>\n",
       "        <td style=\"padding-left: 1em; padding-right: 1em; text-align: center; vertical-align: top\">8113.0</td>\n",
       "    </tr>\n",
       "    <tr>\n",
       "        <td style=\"padding-left: 1em; padding-right: 1em; text-align: center; vertical-align: top\">-122.0308176</td>\n",
       "        <td style=\"padding-left: 1em; padding-right: 1em; text-align: center; vertical-align: top\">2390.0</td>\n",
       "        <td style=\"padding-left: 1em; padding-right: 1em; text-align: center; vertical-align: top\">7570.0</td>\n",
       "    </tr>\n",
       "</table>\n",
       "[21613 rows x 21 columns]<br/>Note: Only the head of the SFrame is printed.<br/>You can use print_rows(num_rows=m, num_columns=n) to print more rows and columns.\n",
       "</div>"
      ],
      "text/plain": [
       "Columns:\n",
       "\tid\tstr\n",
       "\tdate\tdatetime\n",
       "\tprice\tfloat\n",
       "\tbedrooms\tfloat\n",
       "\tbathrooms\tfloat\n",
       "\tsqft_living\tfloat\n",
       "\tsqft_lot\tfloat\n",
       "\tfloors\tfloat\n",
       "\twaterfront\tint\n",
       "\tview\tint\n",
       "\tcondition\tint\n",
       "\tgrade\tfloat\n",
       "\tsqft_above\tfloat\n",
       "\tsqft_basement\tfloat\n",
       "\tyr_built\tfloat\n",
       "\tyr_renovated\tfloat\n",
       "\tzipcode\tstr\n",
       "\tlat\tfloat\n",
       "\tlong\tfloat\n",
       "\tsqft_living15\tfloat\n",
       "\tsqft_lot15\tfloat\n",
       "\n",
       "Rows: 21613\n",
       "\n",
       "Data:\n",
       "+------------+---------------------------+-----------+----------+-----------+\n",
       "|     id     |            date           |   price   | bedrooms | bathrooms |\n",
       "+------------+---------------------------+-----------+----------+-----------+\n",
       "| 7129300520 | 2014-10-13 00:00:00+00:00 |  221900.0 |   3.0    |    1.0    |\n",
       "| 6414100192 | 2014-12-09 00:00:00+00:00 |  538000.0 |   3.0    |    2.25   |\n",
       "| 5631500400 | 2015-02-25 00:00:00+00:00 |  180000.0 |   2.0    |    1.0    |\n",
       "| 2487200875 | 2014-12-09 00:00:00+00:00 |  604000.0 |   4.0    |    3.0    |\n",
       "| 1954400510 | 2015-02-18 00:00:00+00:00 |  510000.0 |   3.0    |    2.0    |\n",
       "| 7237550310 | 2014-05-12 00:00:00+00:00 | 1225000.0 |   4.0    |    4.5    |\n",
       "| 1321400060 | 2014-06-27 00:00:00+00:00 |  257500.0 |   3.0    |    2.25   |\n",
       "| 2008000270 | 2015-01-15 00:00:00+00:00 |  291850.0 |   3.0    |    1.5    |\n",
       "| 2414600126 | 2015-04-15 00:00:00+00:00 |  229500.0 |   3.0    |    1.0    |\n",
       "| 3793500160 | 2015-03-12 00:00:00+00:00 |  323000.0 |   3.0    |    2.5    |\n",
       "+------------+---------------------------+-----------+----------+-----------+\n",
       "+-------------+----------+--------+------------+------+-----------+-------+\n",
       "| sqft_living | sqft_lot | floors | waterfront | view | condition | grade |\n",
       "+-------------+----------+--------+------------+------+-----------+-------+\n",
       "|    1180.0   |  5650.0  |  1.0   |     0      |  0   |     3     |  7.0  |\n",
       "|    2570.0   |  7242.0  |  2.0   |     0      |  0   |     3     |  7.0  |\n",
       "|    770.0    | 10000.0  |  1.0   |     0      |  0   |     3     |  6.0  |\n",
       "|    1960.0   |  5000.0  |  1.0   |     0      |  0   |     5     |  7.0  |\n",
       "|    1680.0   |  8080.0  |  1.0   |     0      |  0   |     3     |  8.0  |\n",
       "|    5420.0   | 101930.0 |  1.0   |     0      |  0   |     3     |  11.0 |\n",
       "|    1715.0   |  6819.0  |  2.0   |     0      |  0   |     3     |  7.0  |\n",
       "|    1060.0   |  9711.0  |  1.0   |     0      |  0   |     3     |  7.0  |\n",
       "|    1780.0   |  7470.0  |  1.0   |     0      |  0   |     3     |  7.0  |\n",
       "|    1890.0   |  6560.0  |  2.0   |     0      |  0   |     3     |  7.0  |\n",
       "+-------------+----------+--------+------------+------+-----------+-------+\n",
       "+------------+---------------+----------+--------------+---------+-------------+\n",
       "| sqft_above | sqft_basement | yr_built | yr_renovated | zipcode |     lat     |\n",
       "+------------+---------------+----------+--------------+---------+-------------+\n",
       "|   1180.0   |      0.0      |  1955.0  |     0.0      |  98178  | 47.51123398 |\n",
       "|   2170.0   |     400.0     |  1951.0  |    1991.0    |  98125  | 47.72102274 |\n",
       "|   770.0    |      0.0      |  1933.0  |     0.0      |  98028  | 47.73792661 |\n",
       "|   1050.0   |     910.0     |  1965.0  |     0.0      |  98136  |   47.52082  |\n",
       "|   1680.0   |      0.0      |  1987.0  |     0.0      |  98074  | 47.61681228 |\n",
       "|   3890.0   |     1530.0    |  2001.0  |     0.0      |  98053  | 47.65611835 |\n",
       "|   1715.0   |      0.0      |  1995.0  |     0.0      |  98003  | 47.30972002 |\n",
       "|   1060.0   |      0.0      |  1963.0  |     0.0      |  98198  | 47.40949984 |\n",
       "|   1050.0   |     730.0     |  1960.0  |     0.0      |  98146  | 47.51229381 |\n",
       "|   1890.0   |      0.0      |  2003.0  |     0.0      |  98038  | 47.36840673 |\n",
       "+------------+---------------+----------+--------------+---------+-------------+\n",
       "+---------------+---------------+-----+\n",
       "|      long     | sqft_living15 | ... |\n",
       "+---------------+---------------+-----+\n",
       "| -122.25677536 |     1340.0    | ... |\n",
       "|  -122.3188624 |     1690.0    | ... |\n",
       "| -122.23319601 |     2720.0    | ... |\n",
       "| -122.39318505 |     1360.0    | ... |\n",
       "| -122.04490059 |     1800.0    | ... |\n",
       "| -122.00528655 |     4760.0    | ... |\n",
       "| -122.32704857 |     2238.0    | ... |\n",
       "| -122.31457273 |     1650.0    | ... |\n",
       "| -122.33659507 |     1780.0    | ... |\n",
       "|  -122.0308176 |     2390.0    | ... |\n",
       "+---------------+---------------+-----+\n",
       "[21613 rows x 21 columns]\n",
       "Note: Only the head of the SFrame is printed.\n",
       "You can use print_rows(num_rows=m, num_columns=n) to print more rows and columns."
      ]
     },
     "execution_count": 3,
     "metadata": {},
     "output_type": "execute_result"
    }
   ],
   "source": [
    "data1"
   ]
  },
  {
   "cell_type": "code",
   "execution_count": 4,
   "metadata": {
    "scrolled": true
   },
   "outputs": [
    {
     "data": {
      "text/html": [
       "<pre>Materializing X axis SArray</pre>"
      ],
      "text/plain": [
       "Materializing X axis SArray"
      ]
     },
     "metadata": {},
     "output_type": "display_data"
    },
    {
     "data": {
      "text/html": [
       "<pre>Materializing Y axis SArray</pre>"
      ],
      "text/plain": [
       "Materializing Y axis SArray"
      ]
     },
     "metadata": {},
     "output_type": "display_data"
    },
    {
     "data": {
      "text/html": [
       "<html>                 <body>                     <iframe style=\"border:0;margin:0\" width=\"920\" height=\"770\" srcdoc='<html lang=\"en\">                         <head>                             <script src=\"https://cdnjs.cloudflare.com/ajax/libs/vega/5.4.0/vega.js\"></script>                             <script src=\"https://cdnjs.cloudflare.com/ajax/libs/vega-embed/4.0.0/vega-embed.js\"></script>                             <script src=\"https://cdnjs.cloudflare.com/ajax/libs/vega-tooltip/0.5.1/vega-tooltip.min.js\"></script>                             <link rel=\"stylesheet\" type=\"text/css\" href=\"https://cdnjs.cloudflare.com/ajax/libs/vega-tooltip/0.5.1/vega-tooltip.min.css\">                             <style>                             .vega-actions > a{                                 color:white;                                 text-decoration: none;                                 font-family: \"Arial\";                                 cursor:pointer;                                 padding:5px;                                 background:#AAAAAA;                                 border-radius:4px;                                 padding-left:10px;                                 padding-right:10px;                                 margin-right:5px;                             }                             .vega-actions{                                 margin-top:20px;                                 text-align:center                             }                            .vega-actions > a{                                 background:#999999;                            }                             </style>                         </head>                         <body>                             <div id=\"vis\">                             </div>                             <script>                                 var vega_json = \"{\\\"$schema\\\": \\\"https://vega.github.io/schema/vega/v4.json\\\", \\\"autosize\\\": {\\\"type\\\": \\\"fit\\\", \\\"resize\\\": false, \\\"contains\\\": \\\"padding\\\"}, \\\"padding\\\": 8, \\\"width\\\": 720, \\\"height\\\": 550, \\\"style\\\": \\\"cell\\\", \\\"title\\\": \\\"X vs. Y\\\", \\\"data\\\": [{\\\"name\\\": \\\"source_2\\\", \\\"values\\\": [{\\\"x\\\": 2570.0, \\\"y\\\": 538000.0}, {\\\"x\\\": 770.0, \\\"y\\\": 180000.0}, {\\\"x\\\": 1960.0, \\\"y\\\": 604000.0}, {\\\"x\\\": 1680.0, \\\"y\\\": 510000.0}, {\\\"x\\\": 5420.0, \\\"y\\\": 1225000.0}, {\\\"x\\\": 1715.0, \\\"y\\\": 257500.0}, {\\\"x\\\": 1060.0, \\\"y\\\": 291850.0}, {\\\"x\\\": 1780.0, \\\"y\\\": 229500.0}, {\\\"x\\\": 1890.0, \\\"y\\\": 323000.0}, {\\\"x\\\": 3560.0, \\\"y\\\": 662500.0}, {\\\"x\\\": 1160.0, \\\"y\\\": 468000.0}, {\\\"x\\\": 1430.0, \\\"y\\\": 310000.0}, {\\\"x\\\": 1370.0, \\\"y\\\": 400000.0}, {\\\"x\\\": 1810.0, \\\"y\\\": 530000.0}, {\\\"x\\\": 2950.0, \\\"y\\\": 650000.0}, {\\\"x\\\": 1890.0, \\\"y\\\": 395000.0}, {\\\"x\\\": 1600.0, \\\"y\\\": 485000.0}, {\\\"x\\\": 1200.0, \\\"y\\\": 189000.0}, {\\\"x\\\": 1250.0, \\\"y\\\": 230000.0}, {\\\"x\\\": 1620.0, \\\"y\\\": 385000.0}, {\\\"x\\\": 3050.0, \\\"y\\\": 2000000.0}, {\\\"x\\\": 2270.0, \\\"y\\\": 285000.0}, {\\\"x\\\": 1070.0, \\\"y\\\": 252700.0}, {\\\"x\\\": 2450.0, \\\"y\\\": 329000.0}, {\\\"x\\\": 1710.0, \\\"y\\\": 233000.0}, {\\\"x\\\": 2450.0, \\\"y\\\": 937000.0}, {\\\"x\\\": 1400.0, \\\"y\\\": 667000.0}, {\\\"x\\\": 1520.0, \\\"y\\\": 438000.0}, {\\\"x\\\": 2570.0, \\\"y\\\": 719000.0}, {\\\"x\\\": 2320.0, \\\"y\\\": 580500.0}, {\\\"x\\\": 1190.0, \\\"y\\\": 280000.0}, {\\\"x\\\": 2330.0, \\\"y\\\": 687500.0}, {\\\"x\\\": 1090.0, \\\"y\\\": 535000.0}, {\\\"x\\\": 2060.0, \\\"y\\\": 322500.0}, {\\\"x\\\": 2300.0, \\\"y\\\": 696000.0}, {\\\"x\\\": 1660.0, \\\"y\\\": 550000.0}, {\\\"x\\\": 2360.0, \\\"y\\\": 640000.0}, {\\\"x\\\": 1220.0, \\\"y\\\": 240000.0}, {\\\"x\\\": 2620.0, \\\"y\\\": 605000.0}, {\\\"x\\\": 2570.0, \\\"y\\\": 625000.0}, {\\\"x\\\": 4220.0, \\\"y\\\": 775000.0}, {\\\"x\\\": 3595.0, \\\"y\\\": 861990.0}, {\\\"x\\\": 1570.0, \\\"y\\\": 685000.0}, {\\\"x\\\": 1280.0, \\\"y\\\": 309000.0}, {\\\"x\\\": 3160.0, \\\"y\\\": 488000.0}, {\\\"x\\\": 990.0, \\\"y\\\": 210490.0}, {\\\"x\\\": 2290.0, \\\"y\\\": 785000.0}, {\\\"x\\\": 1250.0, \\\"y\\\": 450000.0}, {\\\"x\\\": 2753.0, \\\"y\\\": 1350000.0}, {\\\"x\\\": 1190.0, \\\"y\\\": 228000.0}, {\\\"x\\\": 3150.0, \\\"y\\\": 345000.0}, {\\\"x\\\": 1410.0, \\\"y\\\": 600000.0}, {\\\"x\\\": 1980.0, \\\"y\\\": 585000.0}, {\\\"x\\\": 2730.0, \\\"y\\\": 920000.0}, {\\\"x\\\": 2830.0, \\\"y\\\": 885000.0}, {\\\"x\\\": 2250.0, \\\"y\\\": 292500.0}, {\\\"x\\\": 2420.0, \\\"y\\\": 301000.0}, {\\\"x\\\": 3250.0, \\\"y\\\": 951000.0}, {\\\"x\\\": 1850.0, \\\"y\\\": 430000.0}, {\\\"x\\\": 2150.0, \\\"y\\\": 650000.0}, {\\\"x\\\": 1260.0, \\\"y\\\": 289000.0}, {\\\"x\\\": 2519.0, \\\"y\\\": 505000.0}, {\\\"x\\\": 1540.0, \\\"y\\\": 549000.0}, {\\\"x\\\": 1660.0, \\\"y\\\": 425000.0}, {\\\"x\\\": 2770.0, \\\"y\\\": 317625.0}, {\\\"x\\\": 2720.0, \\\"y\\\": 975000.0}, {\\\"x\\\": 2240.0, \\\"y\\\": 287000.0}, {\\\"x\\\": 1000.0, \\\"y\\\": 204000.0}, {\\\"x\\\": 3200.0, \\\"y\\\": 1325000.0}, {\\\"x\\\": 4770.0, \\\"y\\\": 1040000.0}, {\\\"x\\\": 1260.0, \\\"y\\\": 325000.0}, {\\\"x\\\": 2750.0, \\\"y\\\": 571000.0}, {\\\"x\\\": 2380.0, \\\"y\\\": 360000.0}, {\\\"x\\\": 1790.0, \\\"y\\\": 349000.0}, {\\\"x\\\": 3430.0, \\\"y\\\": 832500.0}, {\\\"x\\\": 1760.0, \\\"y\\\": 380000.0}, {\\\"x\\\": 1040.0, \\\"y\\\": 480000.0}, {\\\"x\\\": 1410.0, \\\"y\\\": 410000.0}, {\\\"x\\\": 3450.0, \\\"y\\\": 720000.0}, {\\\"x\\\": 2350.0, \\\"y\\\": 390000.0}, {\\\"x\\\": 1900.0, \\\"y\\\": 360000.0}, {\\\"x\\\": 2020.0, \\\"y\\\": 355000.0}, {\\\"x\\\": 1680.0, \\\"y\\\": 356000.0}, {\\\"x\\\": 960.0, \\\"y\\\": 315000.0}, {\\\"x\\\": 2140.0, \\\"y\\\": 940000.0}, {\\\"x\\\": 2660.0, \\\"y\\\": 305000.0}, {\\\"x\\\": 2770.0, \\\"y\\\": 461000.0}, {\\\"x\\\": 1610.0, \\\"y\\\": 215000.0}, {\\\"x\\\": 1030.0, \\\"y\\\": 335000.0}, {\\\"x\\\": 1980.0, \\\"y\\\": 243500.0}, {\\\"x\\\": 3520.0, \\\"y\\\": 1099880.0}, {\\\"x\\\": 1200.0, \\\"y\\\": 153000.0}, {\\\"x\\\": 1580.0, \\\"y\\\": 430000.0}, {\\\"x\\\": 1580.0, \\\"y\\\": 700000.0}, {\\\"x\\\": 3300.0, \\\"y\\\": 905000.0}, {\\\"x\\\": 1960.0, \\\"y\\\": 247500.0}, {\\\"x\\\": 1160.0, \\\"y\\\": 199000.0}, {\\\"x\\\": 1810.0, \\\"y\\\": 314000.0}, {\\\"x\\\": 2320.0, \\\"y\\\": 437500.0}, {\\\"x\\\": 2070.0, \\\"y\\\": 850830.0}, {\\\"x\\\": 1980.0, \\\"y\\\": 555000.0}, {\\\"x\\\": 2190.0, \\\"y\\\": 699950.0}, {\\\"x\\\": 2920.0, \\\"y\\\": 1088000.0}, {\\\"x\\\": 1210.0, \\\"y\\\": 290000.0}, {\\\"x\\\": 2340.0, \\\"y\\\": 375000.0}, {\\\"x\\\": 1670.0, \\\"y\\\": 460000.0}, {\\\"x\\\": 1240.0, \\\"y\\\": 188500.0}, {\\\"x\\\": 3140.0, \\\"y\\\": 680000.0}, {\\\"x\\\": 2030.0, \\\"y\\\": 470000.0}, {\\\"x\\\": 2310.0, \\\"y\\\": 597750.0}, {\\\"x\\\": 1260.0, \\\"y\\\": 570000.0}, {\\\"x\\\": 1540.0, \\\"y\\\": 272500.0}, {\\\"x\\\": 2080.0, \\\"y\\\": 329950.0}, {\\\"x\\\": 3230.0, \\\"y\\\": 480000.0}, {\\\"x\\\": 4380.0, \\\"y\\\": 740500.0}, {\\\"x\\\": 1590.0, \\\"y\\\": 518500.0}, {\\\"x\\\": 880.0, \\\"y\\\": 205425.0}, {\\\"x\\\": 1570.0, \\\"y\\\": 171800.0}, {\\\"x\\\": 1610.0, \\\"y\\\": 535000.0}, {\\\"x\\\": 2400.0, \\\"y\\\": 660000.0}, {\\\"x\\\": 1450.0, \\\"y\\\": 391500.0}, {\\\"x\\\": 770.0, \\\"y\\\": 395000.0}, {\\\"x\\\": 2100.0, \\\"y\\\": 445000.0}, {\\\"x\\\": 2910.0, \\\"y\\\": 770000.0}, {\\\"x\\\": 2750.0, \\\"y\\\": 1450000.0}, {\\\"x\\\": 2100.0, \\\"y\\\": 445000.0}, {\\\"x\\\": 2160.0, \\\"y\\\": 260000.0}, {\\\"x\\\": 2320.0, \\\"y\\\": 822500.0}, {\\\"x\\\": 2070.0, \\\"y\\\": 430000.0}, {\\\"x\\\": 1060.0, \\\"y\\\": 212000.0}, {\\\"x\\\": 2010.0, \\\"y\\\": 660500.0}, {\\\"x\\\": 3950.0, \\\"y\\\": 784000.0}, {\\\"x\\\": 2010.0, \\\"y\\\": 453246.0}, {\\\"x\\\": 2140.0, \\\"y\\\": 675000.0}, {\\\"x\\\": 1320.0, \\\"y\\\": 199000.0}, {\\\"x\\\": 2020.0, \\\"y\\\": 220000.0}, {\\\"x\\\": 2590.0, \\\"y\\\": 452000.0}, {\\\"x\\\": 1190.0, \\\"y\\\": 382500.0}, {\\\"x\\\": 1170.0, \\\"y\\\": 519950.0}, {\\\"x\\\": 1110.0, \\\"y\\\": 665000.0}, {\\\"x\\\": 2820.0, \\\"y\\\": 527700.0}, {\\\"x\\\": 1610.0, \\\"y\\\": 205000.0}, {\\\"x\\\": 1060.0, \\\"y\\\": 420000.0}, {\\\"x\\\": 2030.0, \\\"y\\\": 500000.0}, {\\\"x\\\": 3670.0, \\\"y\\\": 921500.0}, {\\\"x\\\": 2550.0, \\\"y\\\": 890000.0}, {\\\"x\\\": 2420.0, \\\"y\\\": 430000.0}, {\\\"x\\\": 2260.0, \\\"y\\\": 258000.0}, {\\\"x\\\": 1430.0, \\\"y\\\": 511000.0}, {\\\"x\\\": 1360.0, \\\"y\\\": 532170.0}, {\\\"x\\\": 1110.0, \\\"y\\\": 560000.0}, {\\\"x\\\": 1250.0, \\\"y\\\": 282950.0}, {\\\"x\\\": 5180.0, \\\"y\\\": 2250000.0}, {\\\"x\\\": 700.0, \\\"y\\\": 350000.0}, {\\\"x\\\": 1180.0, \\\"y\\\": 215000.0}, {\\\"x\\\": 3960.0, \\\"y\\\": 650000.0}, {\\\"x\\\": 2640.0, \\\"y\\\": 320000.0}, {\\\"x\\\": 1270.0, \\\"y\\\": 247000.0}, {\\\"x\\\": 1760.0, \\\"y\\\": 320000.0}, {\\\"x\\\": 2060.0, \\\"y\\\": 255000.0}, {\\\"x\\\": 1780.0, \\\"y\\\": 438000.0}, {\\\"x\\\": 3400.0, \\\"y\\\": 900000.0}, {\\\"x\\\": 1910.0, \\\"y\\\": 441000.0}, {\\\"x\\\": 2020.0, \\\"y\\\": 420000.0}, {\\\"x\\\": 1580.0, \\\"y\\\": 370000.0}, {\\\"x\\\": 1340.0, \\\"y\\\": 269950.0}, {\\\"x\\\": 2680.0, \\\"y\\\": 807100.0}, {\\\"x\\\": 2680.0, \\\"y\\\": 653000.0}, {\\\"x\\\": 1370.0, \\\"y\\\": 371500.0}, {\\\"x\\\": 1560.0, \\\"y\\\": 284000.0}, {\\\"x\\\": 2160.0, \\\"y\\\": 272000.0}, {\\\"x\\\": 1340.0, \\\"y\\\": 313000.0}, {\\\"x\\\": 3880.0, \\\"y\\\": 917500.0}, {\\\"x\\\": 2590.0, \\\"y\\\": 673000.0}, {\\\"x\\\": 1120.0, \\\"y\\\": 425000.0}, {\\\"x\\\": 1970.0, \\\"y\\\": 399950.0}, {\\\"x\\\": 1220.0, \\\"y\\\": 385000.0}, {\\\"x\\\": 1950.0, \\\"y\\\": 269950.0}, {\\\"x\\\": 1350.0, \\\"y\\\": 330000.0}, {\\\"x\\\": 1670.0, \\\"y\\\": 260000.0}, {\\\"x\\\": 2380.0, \\\"y\\\": 470000.0}, {\\\"x\\\": 2440.0, \\\"y\\\": 589000.0}, {\\\"x\\\": 1050.0, \\\"y\\\": 163500.0}, {\\\"x\\\": 3130.0, \\\"y\\\": 835000.0}, {\\\"x\\\": 4090.0, \\\"y\\\": 1095000.0}, {\\\"x\\\": 1490.0, \\\"y\\\": 269000.0}, {\\\"x\\\": 1900.0, \\\"y\\\": 560000.0}, {\\\"x\\\": 1330.0, \\\"y\\\": 615000.0}, {\\\"x\\\": 2230.0, \\\"y\\\": 585188.0}, {\\\"x\\\": 1650.0, \\\"y\\\": 305000.0}, {\\\"x\\\": 1190.0, \\\"y\\\": 166950.0}, {\\\"x\\\": 2140.0, \\\"y\\\": 799000.0}, {\\\"x\\\": 2180.0, \\\"y\\\": 400000.0}, {\\\"x\\\": 1060.0, \\\"y\\\": 230000.0}, {\\\"x\\\": 1690.0, \\\"y\\\": 256883.0}, {\\\"x\\\": 1970.0, \\\"y\\\": 423000.0}, {\\\"x\\\": 2150.0, \\\"y\\\": 465000.0}, {\\\"x\\\": 1910.0, \\\"y\\\": 440000.0}, {\\\"x\\\": 1350.0, \\\"y\\\": 385000.0}, {\\\"x\\\": 860.0, \\\"y\\\": 210000.0}, {\\\"x\\\": 1940.0, \\\"y\\\": 297000.0}, {\\\"x\\\": 1010.0, \\\"y\\\": 470000.0}, {\\\"x\\\": 1300.0, \\\"y\\\": 226500.0}, {\\\"x\\\": 910.0, \\\"y\\\": 274250.0}, {\\\"x\\\": 2480.0, \\\"y\\\": 840000.0}, {\\\"x\\\": 2440.0, \\\"y\\\": 677900.0}, {\\\"x\\\": 1010.0, \\\"y\\\": 425000.0}, {\\\"x\\\": 900.0, \\\"y\\\": 180250.0}, {\\\"x\\\": 2300.0, \\\"y\\\": 464000.0}, {\\\"x\\\": 1550.0, \\\"y\\\": 320000.0}, {\\\"x\\\": 1270.0, \\\"y\\\": 625504.0}, {\\\"x\\\": 2240.0, \\\"y\\\": 592500.0}, {\\\"x\\\": 2714.0, \\\"y\\\": 465000.0}, {\\\"x\\\": 1720.0, \\\"y\\\": 477000.0}, {\\\"x\\\": 850.0, \\\"y\\\": 280000.0}, {\\\"x\\\": 3300.0, \\\"y\\\": 1505000.0}, {\\\"x\\\": 2250.0, \\\"y\\\": 445838.0}, {\\\"x\\\": 3900.0, \\\"y\\\": 1072000.0}, {\\\"x\\\": 1320.0, \\\"y\\\": 467000.0}, {\\\"x\\\": 2760.0, \\\"y\\\": 686000.0}, {\\\"x\\\": 1750.0, \\\"y\\\": 279950.0}, {\\\"x\\\": 2330.0, \\\"y\\\": 527000.0}, {\\\"x\\\": 2220.0, \\\"y\\\": 325000.0}, {\\\"x\\\": 2020.0, \\\"y\\\": 328000.0}, {\\\"x\\\": 1250.0, \\\"y\\\": 390000.0}, {\\\"x\\\": 1510.0, \\\"y\\\": 479950.0}, {\\\"x\\\": 1720.0, \\\"y\\\": 264950.0}, {\\\"x\\\": 1430.0, \\\"y\\\": 235000.0}, {\\\"x\\\": 1480.0, \\\"y\\\": 516500.0}, {\\\"x\\\": 1450.0, \\\"y\\\": 655000.0}, {\\\"x\\\": 2280.0, \\\"y\\\": 500000.0}, {\\\"x\\\": 2940.0, \\\"y\\\": 315000.0}, {\\\"x\\\": 1000.0, \\\"y\\\": 213000.0}, {\\\"x\\\": 2480.0, \\\"y\\\": 475000.0}, {\\\"x\\\": 3760.0, \\\"y\\\": 1025000.0}, {\\\"x\\\": 2220.0, \\\"y\\\": 416000.0}, {\\\"x\\\": 1970.0, \\\"y\\\": 410000.0}, {\\\"x\\\": 3830.0, \\\"y\\\": 800000.0}, {\\\"x\\\": 4410.0, \\\"y\\\": 472000.0}, {\\\"x\\\": 1430.0, \\\"y\\\": 225000.0}, {\\\"x\\\": 830.0, \\\"y\\\": 210000.0}, {\\\"x\\\": 1430.0, \\\"y\\\": 455000.0}, {\\\"x\\\": 1300.0, \\\"y\\\": 225000.0}, {\\\"x\\\": 1030.0, \\\"y\\\": 480000.0}, {\\\"x\\\": 2740.0, \\\"y\\\": 363000.0}, {\\\"x\\\": 3650.0, \\\"y\\\": 2400000.0}, {\\\"x\\\": 720.0, \\\"y\\\": 181000.0}, {\\\"x\\\": 2010.0, \\\"y\\\": 250000.0}, {\\\"x\\\": 1560.0, \\\"y\\\": 481000.0}, {\\\"x\\\": 1810.0, \\\"y\\\": 260000.0}, {\\\"x\\\": 3360.0, \\\"y\\\": 455000.0}, {\\\"x\\\": 1510.0, \\\"y\\\": 415000.0}, {\\\"x\\\": 1400.0, \\\"y\\\": 349500.0}, {\\\"x\\\": 1730.0, \\\"y\\\": 245000.0}, {\\\"x\\\": 1420.0, \\\"y\\\": 592500.0}, {\\\"x\\\": 2360.0, \\\"y\\\": 385000.0}, {\\\"x\\\": 1580.0, \\\"y\\\": 315000.0}, {\\\"x\\\": 1230.0, \\\"y\\\": 255000.0}, {\\\"x\\\": 2460.0, \\\"y\\\": 693000.0}, {\\\"x\\\": 1660.0, \\\"y\\\": 780000.0}, {\\\"x\\\": 1270.0, \\\"y\\\": 237000.0}, {\\\"x\\\": 2100.0, \\\"y\\\": 525000.0}, {\\\"x\\\": 770.0, \\\"y\\\": 425000.0}, {\\\"x\\\": 760.0, \\\"y\\\": 369900.0}, {\\\"x\\\": 1700.0, \\\"y\\\": 290000.0}, {\\\"x\\\": 1120.0, \\\"y\\\": 285000.0}, {\\\"x\\\": 1070.0, \\\"y\\\": 415000.0}, {\\\"x\\\": 2070.0, \\\"y\\\": 272500.0}, {\\\"x\\\": 5050.0, \\\"y\\\": 2900000.0}, {\\\"x\\\": 5310.0, \\\"y\\\": 1365000.0}, {\\\"x\\\": 1040.0, \\\"y\\\": 436000.0}, {\\\"x\\\": 1700.0, \\\"y\\\": 210000.0}, {\\\"x\\\": 1300.0, \\\"y\\\": 236000.0}, {\\\"x\\\": 1080.0, \\\"y\\\": 331000.0}, {\\\"x\\\": 2653.0, \\\"y\\\": 365000.0}, {\\\"x\\\": 2290.0, \\\"y\\\": 450000.0}, {\\\"x\\\": 3820.0, \\\"y\\\": 770000.0}, {\\\"x\\\": 2210.0, \\\"y\\\": 455000.0}, {\\\"x\\\": 2390.0, \\\"y\\\": 405000.0}, {\\\"x\\\": 2600.0, \\\"y\\\": 304900.0}, {\\\"x\\\": 860.0, \\\"y\\\": 170000.0}, {\\\"x\\\": 3830.0, \\\"y\\\": 2050000.0}, {\\\"x\\\": 3500.0, \\\"y\\\": 780000.0}, {\\\"x\\\": 2420.0, \\\"y\\\": 330000.0}, {\\\"x\\\": 2720.0, \\\"y\\\": 370000.0}, {\\\"x\\\": 2500.0, \\\"y\\\": 467000.0}, {\\\"x\\\": 1670.0, \\\"y\\\": 405000.0}, {\\\"x\\\": 2900.0, \\\"y\\\": 675000.0}, {\\\"x\\\": 1640.0, \\\"y\\\": 500000.0}, {\\\"x\\\": 1890.0, \\\"y\\\": 389999.0}, {\\\"x\\\": 2950.0, \\\"y\\\": 630000.0}, {\\\"x\\\": 2160.0, \\\"y\\\": 360000.0}, {\\\"x\\\": 3280.0, \\\"y\\\": 580000.0}, {\\\"x\\\": 1970.0, \\\"y\\\": 550000.0}, {\\\"x\\\": 3360.0, \\\"y\\\": 879000.0}, {\\\"x\\\": 1320.0, \\\"y\\\": 265000.0}, {\\\"x\\\": 2650.0, \\\"y\\\": 446500.0}, {\\\"x\\\": 2030.0, \\\"y\\\": 404000.0}, {\\\"x\\\": 1590.0, \\\"y\\\": 267500.0}, {\\\"x\\\": 4550.0, \\\"y\\\": 3075000.0}, {\\\"x\\\": 2440.0, \\\"y\\\": 335000.0}, {\\\"x\\\": 1940.0, \\\"y\\\": 576000.0}, {\\\"x\\\": 2040.0, \\\"y\\\": 208633.0}, {\\\"x\\\": 2200.0, \\\"y\\\": 315000.0}, {\\\"x\\\": 1920.0, \\\"y\\\": 725000.0}, {\\\"x\\\": 1800.0, \\\"y\\\": 550000.0}, {\\\"x\\\": 2180.0, \\\"y\\\": 610750.0}, {\\\"x\\\": 1010.0, \\\"y\\\": 550700.0}, {\\\"x\\\": 3320.0, \\\"y\\\": 665000.0}, {\\\"x\\\": 2370.0, \\\"y\\\": 834000.0}, {\\\"x\\\": 1660.0, \\\"y\\\": 201000.0}, {\\\"x\\\": 3650.0, \\\"y\\\": 2384000.0}, {\\\"x\\\": 4290.0, \\\"y\\\": 1384000.0}, {\\\"x\\\": 4290.0, \\\"y\\\": 1400000.0}, {\\\"x\\\": 1950.0, \\\"y\\\": 305000.0}, {\\\"x\\\": 2590.0, \\\"y\\\": 487000.0}, {\\\"x\\\": 1930.0, \\\"y\\\": 390000.0}, {\\\"x\\\": 1470.0, \\\"y\\\": 548000.0}, {\\\"x\\\": 800.0, \\\"y\\\": 268750.0}, {\\\"x\\\": 3150.0, \\\"y\\\": 819900.0}, {\\\"x\\\": 2030.0, \\\"y\\\": 520000.0}, {\\\"x\\\": 1450.0, \\\"y\\\": 230000.0}, {\\\"x\\\": 1510.0, \\\"y\\\": 240000.0}, {\\\"x\\\": 1240.0, \\\"y\\\": 232000.0}, {\\\"x\\\": 1240.0, \\\"y\\\": 240500.0}, {\\\"x\\\": 3030.0, \\\"y\\\": 274975.0}, {\\\"x\\\": 2050.0, \\\"y\\\": 740000.0}, {\\\"x\\\": 1000.0, \\\"y\\\": 186375.0}, {\\\"x\\\": 2370.0, \\\"y\\\": 790000.0}, {\\\"x\\\": 2800.0, \\\"y\\\": 880000.0}, {\\\"x\\\": 2240.0, \\\"y\\\": 279000.0}, {\\\"x\\\": 1810.0, \\\"y\\\": 295000.0}, {\\\"x\\\": 1070.0, \\\"y\\\": 640000.0}, {\\\"x\\\": 2490.0, \\\"y\\\": 940000.0}, {\\\"x\\\": 1960.0, \\\"y\\\": 260000.0}, {\\\"x\\\": 2930.0, \\\"y\\\": 559900.0}, {\\\"x\\\": 1510.0, \\\"y\\\": 791500.0}, {\\\"x\\\": 1420.0, \\\"y\\\": 265000.0}, {\\\"x\\\": 1740.0, \\\"y\\\": 245000.0}, {\\\"x\\\": 2560.0, \\\"y\\\": 485000.0}, {\\\"x\\\": 3040.0, \\\"y\\\": 684000.0}, {\\\"x\\\": 2500.0, \\\"y\\\": 425000.0}, {\\\"x\\\": 1275.0, \\\"y\\\": 309600.0}, {\\\"x\\\": 2580.0, \\\"y\\\": 552250.0}, {\\\"x\\\": 1000.0, \\\"y\\\": 165000.0}, {\\\"x\\\": 1000.0, \\\"y\\\": 239900.0}, {\\\"x\\\": 1070.0, \\\"y\\\": 320000.0}, {\\\"x\\\": 1390.0, \\\"y\\\": 206600.0}, {\\\"x\\\": 2500.0, \\\"y\\\": 387000.0}, {\\\"x\\\": 560.0, \\\"y\\\": 299000.0}, {\\\"x\\\": 2270.0, \\\"y\\\": 855000.0}, {\\\"x\\\": 1900.0, \\\"y\\\": 315000.0}, {\\\"x\\\": 990.0, \\\"y\\\": 437500.0}, {\\\"x\\\": 1550.0, \\\"y\\\": 252000.0}, {\\\"x\\\": 2200.0, \\\"y\\\": 375000.0}, {\\\"x\\\": 1910.0, \\\"y\\\": 300000.0}, {\\\"x\\\": 1750.0, \\\"y\\\": 420000.0}, {\\\"x\\\": 1330.0, \\\"y\\\": 900000.0}, {\\\"x\\\": 2440.0, \\\"y\\\": 679900.0}, {\\\"x\\\": 1640.0, \\\"y\\\": 463000.0}, {\\\"x\\\": 2760.0, \\\"y\\\": 380000.0}, {\\\"x\\\": 1820.0, \\\"y\\\": 329500.0}, {\\\"x\\\": 2110.0, \\\"y\\\": 604950.0}, {\\\"x\\\": 3040.0, \\\"y\\\": 795000.0}, {\\\"x\\\": 1840.0, \\\"y\\\": 465000.0}, {\\\"x\\\": 2990.0, \\\"y\\\": 673000.0}, {\\\"x\\\": 3520.0, \\\"y\\\": 810000.0}, {\\\"x\\\": 2440.0, \\\"y\\\": 785000.0}, {\\\"x\\\": 2090.0, \\\"y\\\": 338000.0}, {\\\"x\\\": 1430.0, \\\"y\\\": 280000.0}, {\\\"x\\\": 2180.0, \\\"y\\\": 315000.0}, {\\\"x\\\": 2180.0, \\\"y\\\": 530000.0}, {\\\"x\\\": 3450.0, \\\"y\\\": 380000.0}, {\\\"x\\\": 1450.0, \\\"y\\\": 297000.0}, {\\\"x\\\": 3230.0, \\\"y\\\": 730000.0}, {\\\"x\\\": 1640.0, \\\"y\\\": 450000.0}, {\\\"x\\\": 1590.0, \\\"y\\\": 275000.0}, {\\\"x\\\": 2020.0, \\\"y\\\": 595000.0}, {\\\"x\\\": 1300.0, \\\"y\\\": 435000.0}, {\\\"x\\\": 1380.0, \\\"y\\\": 270000.0}, {\\\"x\\\": 4040.0, \\\"y\\\": 950000.0}, {\\\"x\\\": 2130.0, \\\"y\\\": 389000.0}, {\\\"x\\\": 2550.0, \\\"y\\\": 560000.0}, {\\\"x\\\": 4800.0, \\\"y\\\": 1350000.0}, {\\\"x\\\": 2510.0, \\\"y\\\": 799000.0}, {\\\"x\\\": 1410.0, \\\"y\\\": 365500.0}, {\\\"x\\\": 1650.0, \\\"y\\\": 252350.0}, {\\\"x\\\": 2120.0, \\\"y\\\": 403950.0}, {\\\"x\\\": 2040.0, \\\"y\\\": 385000.0}, {\\\"x\\\": 1550.0, \\\"y\\\": 345000.0}, {\\\"x\\\": 1980.0, \\\"y\\\": 490000.0}, {\\\"x\\\": 1600.0, \\\"y\\\": 330000.0}, {\\\"x\\\": 3300.0, \\\"y\\\": 927000.0}, {\\\"x\\\": 3840.0, \\\"y\\\": 1118000.0}, {\\\"x\\\": 1220.0, \\\"y\\\": 330000.0}, {\\\"x\\\": 2720.0, \\\"y\\\": 530000.0}, {\\\"x\\\": 1940.0, \\\"y\\\": 365000.0}, {\\\"x\\\": 2160.0, \\\"y\\\": 378750.0}, {\\\"x\\\": 1530.0, \\\"y\\\": 269900.0}, {\\\"x\\\": 1710.0, \\\"y\\\": 557000.0}, {\\\"x\\\": 3730.0, \\\"y\\\": 360000.0}, {\\\"x\\\": 940.0, \\\"y\\\": 352000.0}, {\\\"x\\\": 1750.0, \\\"y\\\": 437000.0}, {\\\"x\\\": 1820.0, \\\"y\\\": 322500.0}, {\\\"x\\\": 1510.0, \\\"y\\\": 650000.0}, {\\\"x\\\": 1290.0, \\\"y\\\": 450000.0}, {\\\"x\\\": 1570.0, \\\"y\\\": 278500.0}, {\\\"x\\\": 1930.0, \\\"y\\\": 364950.0}, {\\\"x\\\": 2840.0, \\\"y\\\": 840000.0}, {\\\"x\\\": 1550.0, \\\"y\\\": 268000.0}, {\\\"x\\\": 833.0, \\\"y\\\": 517534.0}, {\\\"x\\\": 2990.0, \\\"y\\\": 632925.0}, {\\\"x\\\": 2000.0, \\\"y\\\": 577500.0}, {\\\"x\\\": 2390.0, \\\"y\\\": 339000.0}, {\\\"x\\\": 2910.0, \\\"y\\\": 570000.0}, {\\\"x\\\": 2085.0, \\\"y\\\": 563500.0}, {\\\"x\\\": 2200.0, \\\"y\\\": 423000.0}, {\\\"x\\\": 1860.0, \\\"y\\\": 355000.0}, {\\\"x\\\": 6070.0, \\\"y\\\": 1550000.0}, {\\\"x\\\": 950.0, \\\"y\\\": 482000.0}, {\\\"x\\\": 1600.0, \\\"y\\\": 625000.0}, {\\\"x\\\": 2250.0, \\\"y\\\": 538000.0}, {\\\"x\\\": 2280.0, \\\"y\\\": 380000.0}, {\\\"x\\\": 940.0, \\\"y\\\": 375000.0}, {\\\"x\\\": 1530.0, \\\"y\\\": 245000.0}, {\\\"x\\\": 2190.0, \\\"y\\\": 310000.0}, {\\\"x\\\": 2350.0, \\\"y\\\": 1300000.0}, {\\\"x\\\": 1440.0, \\\"y\\\": 397000.0}, {\\\"x\\\": 2200.0, \\\"y\\\": 365000.0}, {\\\"x\\\": 2290.0, \\\"y\\\": 328500.0}, {\\\"x\\\": 4040.0, \\\"y\\\": 988000.0}, {\\\"x\\\": 2610.0, \\\"y\\\": 1000000.0}, {\\\"x\\\": 1490.0, \\\"y\\\": 237000.0}, {\\\"x\\\": 2450.0, \\\"y\\\": 525000.0}, {\\\"x\\\": 1710.0, \\\"y\\\": 749000.0}, {\\\"x\\\": 4870.0, \\\"y\\\": 722500.0}, {\\\"x\\\": 3130.0, \\\"y\\\": 843000.0}, {\\\"x\\\": 1270.0, \\\"y\\\": 438000.0}, {\\\"x\\\": 2120.0, \\\"y\\\": 578000.0}, {\\\"x\\\": 1670.0, \\\"y\\\": 227950.0}, {\\\"x\\\": 2070.0, \\\"y\\\": 196000.0}, {\\\"x\\\": 1420.0, \\\"y\\\": 641000.0}, {\\\"x\\\": 1250.0, \\\"y\\\": 350000.0}, {\\\"x\\\": 940.0, \\\"y\\\": 205000.0}, {\\\"x\\\": 1920.0, \\\"y\\\": 400000.0}, {\\\"x\\\": 3545.0, \\\"y\\\": 1030000.0}, {\\\"x\\\": 1260.0, \\\"y\\\": 505000.0}, {\\\"x\\\": 2340.0, \\\"y\\\": 475000.0}, {\\\"x\\\": 2590.0, \\\"y\\\": 520000.0}, {\\\"x\\\": 3970.0, \\\"y\\\": 1450000.0}, {\\\"x\\\": 1220.0, \\\"y\\\": 333500.0}, {\\\"x\\\": 1400.0, \\\"y\\\": 232000.0}, {\\\"x\\\": 2360.0, \\\"y\\\": 691100.0}, {\\\"x\\\": 1870.0, \\\"y\\\": 811000.0}, {\\\"x\\\": 2830.0, \\\"y\\\": 551000.0}, {\\\"x\\\": 2260.0, \\\"y\\\": 496500.0}, {\\\"x\\\": 1970.0, \\\"y\\\": 705000.0}, {\\\"x\\\": 3140.0, \\\"y\\\": 578000.0}, {\\\"x\\\": 1240.0, \\\"y\\\": 255000.0}, {\\\"x\\\": 3450.0, \\\"y\\\": 1050000.0}, {\\\"x\\\": 2570.0, \\\"y\\\": 348000.0}, {\\\"x\\\": 1510.0, \\\"y\\\": 230000.0}, {\\\"x\\\": 2390.0, \\\"y\\\": 359500.0}, {\\\"x\\\": 980.0, \\\"y\\\": 330000.0}, {\\\"x\\\": 430.0, \\\"y\\\": 80000.0}, {\\\"x\\\": 1480.0, \\\"y\\\": 465000.0}, {\\\"x\\\": 1850.0, \\\"y\\\": 325000.0}, {\\\"x\\\": 2270.0, \\\"y\\\": 340500.0}, {\\\"x\\\": 1810.0, \\\"y\\\": 342500.0}, {\\\"x\\\": 1610.0, \\\"y\\\": 290900.0}, {\\\"x\\\": 3840.0, \\\"y\\\": 868700.0}, {\\\"x\\\": 4110.0, \\\"y\\\": 1199000.0}, {\\\"x\\\": 4190.0, \\\"y\\\": 1150000.0}, {\\\"x\\\": 3390.0, \\\"y\\\": 859900.0}, {\\\"x\\\": 1890.0, \\\"y\\\": 520000.0}, {\\\"x\\\": 1610.0, \\\"y\\\": 460000.0}, {\\\"x\\\": 1050.0, \\\"y\\\": 438924.0}, {\\\"x\\\": 630.0, \\\"y\\\": 315000.0}, {\\\"x\\\": 2910.0, \\\"y\\\": 590000.0}, {\\\"x\\\": 1700.0, \\\"y\\\": 378500.0}, {\\\"x\\\": 1950.0, \\\"y\\\": 328500.0}, {\\\"x\\\": 2990.0, \\\"y\\\": 849950.0}, {\\\"x\\\": 1350.0, \\\"y\\\": 525000.0}, {\\\"x\\\": 4860.0, \\\"y\\\": 1385000.0}, {\\\"x\\\": 2160.0, \\\"y\\\": 295000.0}, {\\\"x\\\": 4860.0, \\\"y\\\": 1067000.0}, {\\\"x\\\": 890.0, \\\"y\\\": 207950.0}, {\\\"x\\\": 2810.0, \\\"y\\\": 699900.0}, {\\\"x\\\": 3400.0, \\\"y\\\": 1280000.0}, {\\\"x\\\": 1580.0, \\\"y\\\": 452000.0}, {\\\"x\\\": 1680.0, \\\"y\\\": 370000.0}, {\\\"x\\\": 1300.0, \\\"y\\\": 232000.0}, {\\\"x\\\": 2820.0, \\\"y\\\": 669950.0}, {\\\"x\\\": 1510.0, \\\"y\\\": 397500.0}, {\\\"x\\\": 1230.0, \\\"y\\\": 490000.0}, {\\\"x\\\": 2110.0, \\\"y\\\": 725000.0}, {\\\"x\\\": 3080.0, \\\"y\\\": 299000.0}, {\\\"x\\\": 1490.0, \\\"y\\\": 625000.0}, {\\\"x\\\": 2120.0, \\\"y\\\": 437500.0}, {\\\"x\\\": 3180.0, \\\"y\\\": 650000.0}, {\\\"x\\\": 1490.0, \\\"y\\\": 475000.0}, {\\\"x\\\": 1930.0, \\\"y\\\": 342000.0}, {\\\"x\\\": 2770.0, \\\"y\\\": 1197354.0}, {\\\"x\\\": 1670.0, \\\"y\\\": 280000.0}, {\\\"x\\\": 1330.0, \\\"y\\\": 240000.0}, {\\\"x\\\": 1210.0, \\\"y\\\": 529000.0}, {\\\"x\\\": 1190.0, \\\"y\\\": 442000.0}, {\\\"x\\\": 1540.0, \\\"y\\\": 615000.0}, {\\\"x\\\": 4030.0, \\\"y\\\": 1485000.0}, {\\\"x\\\": 2430.0, \\\"y\\\": 585000.0}, {\\\"x\\\": 2600.0, \\\"y\\\": 480000.0}, {\\\"x\\\": 4410.0, \\\"y\\\": 1095000.0}, {\\\"x\\\": 1330.0, \\\"y\\\": 290000.0}, {\\\"x\\\": 1900.0, \\\"y\\\": 615000.0}, {\\\"x\\\": 1100.0, \\\"y\\\": 300000.0}, {\\\"x\\\": 1980.0, \\\"y\\\": 308000.0}, {\\\"x\\\": 2400.0, \\\"y\\\": 750000.0}, {\\\"x\\\": 4760.0, \\\"y\\\": 2250000.0}, {\\\"x\\\": 3180.0, \\\"y\\\": 890000.0}, {\\\"x\\\": 1190.0, \\\"y\\\": 288000.0}, {\\\"x\\\": 630.0, \\\"y\\\": 190000.0}, {\\\"x\\\": 2530.0, \\\"y\\\": 515000.0}, {\\\"x\\\": 1690.0, \\\"y\\\": 235000.0}, {\\\"x\\\": 940.0, \\\"y\\\": 275000.0}, {\\\"x\\\": 1240.0, \\\"y\\\": 727500.0}, {\\\"x\\\": 3040.0, \\\"y\\\": 650000.0}, {\\\"x\\\": 6050.0, \\\"y\\\": 1600000.0}, {\\\"x\\\": 1590.0, \\\"y\\\": 365000.0}, {\\\"x\\\": 2500.0, \\\"y\\\": 662000.0}, {\\\"x\\\": 1780.0, \\\"y\\\": 270500.0}, {\\\"x\\\": 1360.0, \\\"y\\\": 200000.0}, {\\\"x\\\": 4740.0, \\\"y\\\": 970000.0}, {\\\"x\\\": 1010.0, \\\"y\\\": 160000.0}, {\\\"x\\\": 1040.0, \\\"y\\\": 204000.0}, {\\\"x\\\": 1610.0, \\\"y\\\": 358000.0}, {\\\"x\\\": 1570.0, \\\"y\\\": 452000.0}, {\\\"x\\\": 1510.0, \\\"y\\\": 595000.0}, {\\\"x\\\": 1360.0, \\\"y\\\": 249000.0}, {\\\"x\\\": 1970.0, \\\"y\\\": 346900.0}, {\\\"x\\\": 5403.0, \\\"y\\\": 2125000.0}, {\\\"x\\\": 1560.0, \\\"y\\\": 280000.0}, {\\\"x\\\": 2320.0, \\\"y\\\": 318888.0}, {\\\"x\\\": 2120.0, \\\"y\\\": 530000.0}, {\\\"x\\\": 2120.0, \\\"y\\\": 375000.0}, {\\\"x\\\": 3350.0, \\\"y\\\": 910000.0}, {\\\"x\\\": 2380.0, \\\"y\\\": 782000.0}, {\\\"x\\\": 1070.0, \\\"y\\\": 259950.0}, {\\\"x\\\": 2300.0, \\\"y\\\": 315000.0}, {\\\"x\\\": 1320.0, \\\"y\\\": 215000.0}, {\\\"x\\\": 2180.0, \\\"y\\\": 705000.0}, {\\\"x\\\": 4380.0, \\\"y\\\": 1450000.0}, {\\\"x\\\": 1790.0, \\\"y\\\": 451000.0}, {\\\"x\\\": 750.0, \\\"y\\\": 261000.0}, {\\\"x\\\": 1300.0, \\\"y\\\": 396000.0}, {\\\"x\\\": 2990.0, \\\"y\\\": 725000.0}, {\\\"x\\\": 4640.0, \\\"y\\\": 1950000.0}, {\\\"x\\\": 1400.0, \\\"y\\\": 238000.0}, {\\\"x\\\": 2750.0, \\\"y\\\": 750000.0}, {\\\"x\\\": 2050.0, \\\"y\\\": 331500.0}, {\\\"x\\\": 2230.0, \\\"y\\\": 460000.0}, {\\\"x\\\": 2340.0, \\\"y\\\": 404950.0}, {\\\"x\\\": 2870.0, \\\"y\\\": 880000.0}, {\\\"x\\\": 4120.0, \\\"y\\\": 863000.0}, {\\\"x\\\": 2080.0, \\\"y\\\": 638700.0}, {\\\"x\\\": 1840.0, \\\"y\\\": 435000.0}, {\\\"x\\\": 1180.0, \\\"y\\\": 260000.0}, {\\\"x\\\": 2160.0, \\\"y\\\": 671500.0}, {\\\"x\\\": 1180.0, \\\"y\\\": 610000.0}, {\\\"x\\\": 1160.0, \\\"y\\\": 405000.0}, {\\\"x\\\": 1830.0, \\\"y\\\": 338900.0}, {\\\"x\\\": 3200.0, \\\"y\\\": 720000.0}, {\\\"x\\\": 2560.0, \\\"y\\\": 442000.0}, {\\\"x\\\": 2550.0, \\\"y\\\": 650000.0}, {\\\"x\\\": 1330.0, \\\"y\\\": 263500.0}, {\\\"x\\\": 1220.0, \\\"y\\\": 300000.0}, {\\\"x\\\": 1805.0, \\\"y\\\": 266000.0}, {\\\"x\\\": 6050.0, \\\"y\\\": 930000.0}, {\\\"x\\\": 2320.0, \\\"y\\\": 530000.0}, {\\\"x\\\": 1384.0, \\\"y\\\": 180000.0}, {\\\"x\\\": 2720.0, \\\"y\\\": 619000.0}, {\\\"x\\\": 1820.0, \\\"y\\\": 264000.0}, {\\\"x\\\": 2130.0, \\\"y\\\": 730000.0}, {\\\"x\\\": 2060.0, \\\"y\\\": 439000.0}, {\\\"x\\\": 1420.0, \\\"y\\\": 268500.0}, {\\\"x\\\": 1510.0, \\\"y\\\": 330000.0}, {\\\"x\\\": 2160.0, \\\"y\\\": 640000.0}, {\\\"x\\\": 3180.0, \\\"y\\\": 900000.0}, {\\\"x\\\": 2110.0, \\\"y\\\": 370000.0}, {\\\"x\\\": 2060.0, \\\"y\\\": 685000.0}, {\\\"x\\\": 1830.0, \\\"y\\\": 505000.0}, {\\\"x\\\": 1820.0, \\\"y\\\": 265000.0}, {\\\"x\\\": 1610.0, \\\"y\\\": 290000.0}, {\\\"x\\\": 1780.0, \\\"y\\\": 296000.0}, {\\\"x\\\": 1840.0, \\\"y\\\": 360000.0}, {\\\"x\\\": 1460.0, \\\"y\\\": 240500.0}, {\\\"x\\\": 1400.0, \\\"y\\\": 372500.0}, {\\\"x\\\": 3370.0, \\\"y\\\": 595000.0}, {\\\"x\\\": 3590.0, \\\"y\\\": 515000.0}, {\\\"x\\\": 3200.0, \\\"y\\\": 1220000.0}, {\\\"x\\\": 1670.0, \\\"y\\\": 507000.0}, {\\\"x\\\": 2420.0, \\\"y\\\": 399950.0}, {\\\"x\\\": 1430.0, \\\"y\\\": 185000.0}, {\\\"x\\\": 1440.0, \\\"y\\\": 460000.0}, {\\\"x\\\": 1450.0, \\\"y\\\": 435500.0}, {\\\"x\\\": 3550.0, \\\"y\\\": 469000.0}, {\\\"x\\\": 1270.0, \\\"y\\\": 531000.0}, {\\\"x\\\": 940.0, \\\"y\\\": 443500.0}, {\\\"x\\\": 1670.0, \\\"y\\\": 223000.0}, {\\\"x\\\": 3100.0, \\\"y\\\": 590000.0}, {\\\"x\\\": 1100.0, \\\"y\\\": 340000.0}, {\\\"x\\\": 1870.0, \\\"y\\\": 650000.0}, {\\\"x\\\": 1930.0, \\\"y\\\": 533600.0}, {\\\"x\\\": 2540.0, \\\"y\\\": 695000.0}, {\\\"x\\\": 1280.0, \\\"y\\\": 242000.0}, {\\\"x\\\": 1820.0, \\\"y\\\": 425000.0}, {\\\"x\\\": 1490.0, \\\"y\\\": 525000.0}, {\\\"x\\\": 1880.0, \\\"y\\\": 485000.0}, {\\\"x\\\": 1250.0, \\\"y\\\": 175000.0}, {\\\"x\\\": 1440.0, \\\"y\\\": 210000.0}, {\\\"x\\\": 1920.0, \\\"y\\\": 260000.0}, {\\\"x\\\": 2060.0, \\\"y\\\": 577000.0}, {\\\"x\\\": 1210.0, \\\"y\\\": 200000.0}, {\\\"x\\\": 1760.0, \\\"y\\\": 605000.0}, {\\\"x\\\": 990.0, \\\"y\\\": 325000.0}, {\\\"x\\\": 960.0, \\\"y\\\": 289500.0}, {\\\"x\\\": 1660.0, \\\"y\\\": 559950.0}, {\\\"x\\\": 1900.0, \\\"y\\\": 1042500.0}, {\\\"x\\\": 1270.0, \\\"y\\\": 543500.0}, {\\\"x\\\": 3250.0, \\\"y\\\": 480000.0}, {\\\"x\\\": 960.0, \\\"y\\\": 218000.0}, {\\\"x\\\": 1330.0, \\\"y\\\": 565000.0}, {\\\"x\\\": 2080.0, \\\"y\\\": 426700.0}, {\\\"x\\\": 2690.0, \\\"y\\\": 650000.0}, {\\\"x\\\": 890.0, \\\"y\\\": 542000.0}, {\\\"x\\\": 1070.0, \\\"y\\\": 415000.0}, {\\\"x\\\": 1200.0, \\\"y\\\": 214000.0}, {\\\"x\\\": 1360.0, \\\"y\\\": 245000.0}, {\\\"x\\\": 2050.0, \\\"y\\\": 314500.0}, {\\\"x\\\": 3000.0, \\\"y\\\": 1120000.0}, {\\\"x\\\": 1300.0, \\\"y\\\": 378000.0}, {\\\"x\\\": 2250.0, \\\"y\\\": 305000.0}, {\\\"x\\\": 3740.0, \\\"y\\\": 595000.0}, {\\\"x\\\": 1660.0, \\\"y\\\": 729500.0}, {\\\"x\\\": 2360.0, \\\"y\\\": 430000.0}, {\\\"x\\\": 1760.0, \\\"y\\\": 240000.0}, {\\\"x\\\": 1680.0, \\\"y\\\": 545000.0}, {\\\"x\\\": 1320.0, \\\"y\\\": 530000.0}, {\\\"x\\\": 870.0, \\\"y\\\": 157000.0}, {\\\"x\\\": 1260.0, \\\"y\\\": 425000.0}, {\\\"x\\\": 1000.0, \\\"y\\\": 220000.0}, {\\\"x\\\": 2020.0, \\\"y\\\": 521000.0}, {\\\"x\\\": 1920.0, \\\"y\\\": 325000.0}, {\\\"x\\\": 2150.0, \\\"y\\\": 597500.0}, {\\\"x\\\": 1470.0, \\\"y\\\": 337000.0}, {\\\"x\\\": 3180.0, \\\"y\\\": 1000000.0}, {\\\"x\\\": 3930.0, \\\"y\\\": 3070000.0}, {\\\"x\\\": 990.0, \\\"y\\\": 495000.0}, {\\\"x\\\": 2770.0, \\\"y\\\": 748000.0}, {\\\"x\\\": 1250.0, \\\"y\\\": 888000.0}, {\\\"x\\\": 1140.0, \\\"y\\\": 269900.0}, {\\\"x\\\": 2250.0, \\\"y\\\": 496500.0}, {\\\"x\\\": 1640.0, \\\"y\\\": 475000.0}, {\\\"x\\\": 1255.0, \\\"y\\\": 312000.0}, {\\\"x\\\": 1290.0, \\\"y\\\": 323000.0}, {\\\"x\\\": 1300.0, \\\"y\\\": 331000.0}, {\\\"x\\\": 1220.0, \\\"y\\\": 306000.0}, {\\\"x\\\": 2630.0, \\\"y\\\": 655000.0}, {\\\"x\\\": 1950.0, \\\"y\\\": 290000.0}, {\\\"x\\\": 3160.0, \\\"y\\\": 1250000.0}, {\\\"x\\\": 1550.0, \\\"y\\\": 460000.0}, {\\\"x\\\": 1700.0, \\\"y\\\": 435000.0}, {\\\"x\\\": 2510.0, \\\"y\\\": 664000.0}, {\\\"x\\\": 1800.0, \\\"y\\\": 865000.0}, {\\\"x\\\": 1800.0, \\\"y\\\": 385000.0}, {\\\"x\\\": 1870.0, \\\"y\\\": 497000.0}, {\\\"x\\\": 1010.0, \\\"y\\\": 280000.0}, {\\\"x\\\": 1120.0, \\\"y\\\": 188000.0}, {\\\"x\\\": 2090.0, \\\"y\\\": 478500.0}, {\\\"x\\\": 4370.0, \\\"y\\\": 1145000.0}, {\\\"x\\\": 1440.0, \\\"y\\\": 222000.0}, {\\\"x\\\": 2580.0, \\\"y\\\": 799000.0}, {\\\"x\\\": 3190.0, \\\"y\\\": 609900.0}, {\\\"x\\\": 2380.0, \\\"y\\\": 413000.0}, {\\\"x\\\": 1420.0, \\\"y\\\": 400000.0}, {\\\"x\\\": 2990.0, \\\"y\\\": 802541.0}, {\\\"x\\\": 2680.0, \\\"y\\\": 320000.0}, {\\\"x\\\": 2730.0, \\\"y\\\": 507000.0}, {\\\"x\\\": 1220.0, \\\"y\\\": 387500.0}, {\\\"x\\\": 1500.0, \\\"y\\\": 396000.0}, {\\\"x\\\": 1830.0, \\\"y\\\": 373000.0}, {\\\"x\\\": 4570.0, \\\"y\\\": 1484900.0}, {\\\"x\\\": 2470.0, \\\"y\\\": 359900.0}, {\\\"x\\\": 800.0, \\\"y\\\": 410000.0}, {\\\"x\\\": 2900.0, \\\"y\\\": 690000.0}, {\\\"x\\\": 1410.0, \\\"y\\\": 245000.0}, {\\\"x\\\": 2830.0, \\\"y\\\": 700000.0}, {\\\"x\\\": 1680.0, \\\"y\\\": 268000.0}, {\\\"x\\\": 1760.0, \\\"y\\\": 225000.0}, {\\\"x\\\": 2240.0, \\\"y\\\": 980000.0}, {\\\"x\\\": 1380.0, \\\"y\\\": 795000.0}, {\\\"x\\\": 820.0, \\\"y\\\": 195000.0}, {\\\"x\\\": 2180.0, \\\"y\\\": 480000.0}, {\\\"x\\\": 1400.0, \\\"y\\\": 485000.0}, {\\\"x\\\": 880.0, \\\"y\\\": 130000.0}, {\\\"x\\\": 1060.0, \\\"y\\\": 325000.0}, {\\\"x\\\": 1530.0, \\\"y\\\": 440000.0}, {\\\"x\\\": 2480.0, \\\"y\\\": 550000.0}, {\\\"x\\\": 1490.0, \\\"y\\\": 310000.0}, {\\\"x\\\": 3660.0, \\\"y\\\": 530000.0}, {\\\"x\\\": 2340.0, \\\"y\\\": 390000.0}, {\\\"x\\\": 1450.0, \\\"y\\\": 243000.0}, {\\\"x\\\": 2210.0, \\\"y\\\": 639000.0}, {\\\"x\\\": 1130.0, \\\"y\\\": 215000.0}, {\\\"x\\\": 1550.0, \\\"y\\\": 405000.0}, {\\\"x\\\": 1710.0, \\\"y\\\": 250000.0}, {\\\"x\\\": 1010.0, \\\"y\\\": 405500.0}, {\\\"x\\\": 2660.0, \\\"y\\\": 452000.0}, {\\\"x\\\": 2660.0, \\\"y\\\": 730000.0}, {\\\"x\\\": 1300.0, \\\"y\\\": 267000.0}, {\\\"x\\\": 1670.0, \\\"y\\\": 289950.0}, {\\\"x\\\": 960.0, \\\"y\\\": 565000.0}, {\\\"x\\\": 4670.0, \\\"y\\\": 1578000.0}, {\\\"x\\\": 2140.0, \\\"y\\\": 636000.0}, {\\\"x\\\": 2520.0, \\\"y\\\": 350000.0}, {\\\"x\\\": 1650.0, \\\"y\\\": 320000.0}, {\\\"x\\\": 1440.0, \\\"y\\\": 210000.0}, {\\\"x\\\": 1050.0, \\\"y\\\": 245000.0}, {\\\"x\\\": 1470.0, \\\"y\\\": 328000.0}, {\\\"x\\\": 4230.0, \\\"y\\\": 985000.0}, {\\\"x\\\": 1970.0, \\\"y\\\": 501000.0}, {\\\"x\\\": 1540.0, \\\"y\\\": 315000.0}, {\\\"x\\\": 2090.0, \\\"y\\\": 403000.0}, {\\\"x\\\": 2380.0, \\\"y\\\": 550000.0}, {\\\"x\\\": 2156.0, \\\"y\\\": 347500.0}, {\\\"x\\\": 2070.0, \\\"y\\\": 365000.0}, {\\\"x\\\": 1910.0, \\\"y\\\": 588000.0}, {\\\"x\\\": 1920.0, \\\"y\\\": 605000.0}, {\\\"x\\\": 3400.0, \\\"y\\\": 1300000.0}, {\\\"x\\\": 1400.0, \\\"y\\\": 233000.0}, {\\\"x\\\": 2210.0, \\\"y\\\": 360000.0}, {\\\"x\\\": 1170.0, \\\"y\\\": 459000.0}, {\\\"x\\\": 2100.0, \\\"y\\\": 740000.0}, {\\\"x\\\": 1160.0, \\\"y\\\": 305000.0}, {\\\"x\\\": 1500.0, \\\"y\\\": 395000.0}, {\\\"x\\\": 2940.0, \\\"y\\\": 560000.0}, {\\\"x\\\": 2010.0, \\\"y\\\": 650000.0}, {\\\"x\\\": 2170.0, \\\"y\\\": 449950.0}, {\\\"x\\\": 1430.0, \\\"y\\\": 517500.0}, {\\\"x\\\": 1510.0, \\\"y\\\": 435000.0}, {\\\"x\\\": 1150.0, \\\"y\\\": 329999.0}, {\\\"x\\\": 2150.0, \\\"y\\\": 950000.0}, {\\\"x\\\": 1370.0, \\\"y\\\": 447000.0}, {\\\"x\\\": 2380.0, \\\"y\\\": 699800.0}, {\\\"x\\\": 1370.0, \\\"y\\\": 850000.0}, {\\\"x\\\": 1600.0, \\\"y\\\": 316500.0}, {\\\"x\\\": 3750.0, \\\"y\\\": 942500.0}, {\\\"x\\\": 3950.0, \\\"y\\\": 1310000.0}, {\\\"x\\\": 2400.0, \\\"y\\\": 856600.0}, {\\\"x\\\": 2830.0, \\\"y\\\": 405600.0}, {\\\"x\\\": 2440.0, \\\"y\\\": 565000.0}, {\\\"x\\\": 1190.0, \\\"y\\\": 400000.0}, {\\\"x\\\": 1400.0, \\\"y\\\": 330000.0}, {\\\"x\\\": 2730.0, \\\"y\\\": 374950.0}, {\\\"x\\\": 2390.0, \\\"y\\\": 405300.0}, {\\\"x\\\": 2060.0, \\\"y\\\": 560000.0}, {\\\"x\\\": 2490.0, \\\"y\\\": 824000.0}, {\\\"x\\\": 1100.0, \\\"y\\\": 260000.0}, {\\\"x\\\": 2430.0, \\\"y\\\": 760000.0}, {\\\"x\\\": 3170.0, \\\"y\\\": 405000.0}, {\\\"x\\\": 2640.0, \\\"y\\\": 429900.0}, {\\\"x\\\": 1130.0, \\\"y\\\": 341500.0}, {\\\"x\\\": 1940.0, \\\"y\\\": 465250.0}, {\\\"x\\\": 1100.0, \\\"y\\\": 450000.0}, {\\\"x\\\": 1200.0, \\\"y\\\": 390000.0}, {\\\"x\\\": 2000.0, \\\"y\\\": 420000.0}, {\\\"x\\\": 1890.0, \\\"y\\\": 269950.0}, {\\\"x\\\": 1910.0, \\\"y\\\": 493000.0}, {\\\"x\\\": 2710.0, \\\"y\\\": 370000.0}, {\\\"x\\\": 4860.0, \\\"y\\\": 2250000.0}, {\\\"x\\\": 1250.0, \\\"y\\\": 305000.0}, {\\\"x\\\": 1590.0, \\\"y\\\": 400000.0}, {\\\"x\\\": 1240.0, \\\"y\\\": 320000.0}, {\\\"x\\\": 2000.0, \\\"y\\\": 715000.0}, {\\\"x\\\": 3610.0, \\\"y\\\": 650000.0}, {\\\"x\\\": 1930.0, \\\"y\\\": 218000.0}, {\\\"x\\\": 1280.0, \\\"y\\\": 500000.0}, {\\\"x\\\": 2090.0, \\\"y\\\": 460000.0}, {\\\"x\\\": 1940.0, \\\"y\\\": 232500.0}, {\\\"x\\\": 1800.0, \\\"y\\\": 408200.0}, {\\\"x\\\": 1730.0, \\\"y\\\": 522000.0}, {\\\"x\\\": 2810.0, \\\"y\\\": 675000.0}, {\\\"x\\\": 3550.0, \\\"y\\\": 1355000.0}, {\\\"x\\\": 1330.0, \\\"y\\\": 249950.0}, {\\\"x\\\": 750.0, \\\"y\\\": 210000.0}, {\\\"x\\\": 1760.0, \\\"y\\\": 429950.0}, {\\\"x\\\": 3200.0, \\\"y\\\": 737500.0}, {\\\"x\\\": 1740.0, \\\"y\\\": 710000.0}, {\\\"x\\\": 2100.0, \\\"y\\\": 470000.0}, {\\\"x\\\": 4270.0, \\\"y\\\": 1100000.0}, {\\\"x\\\": 1340.0, \\\"y\\\": 650000.0}, {\\\"x\\\": 3190.0, \\\"y\\\": 1216000.0}, {\\\"x\\\": 1630.0, \\\"y\\\": 422120.0}, {\\\"x\\\": 2990.0, \\\"y\\\": 625000.0}, {\\\"x\\\": 1550.0, \\\"y\\\": 385200.0}, {\\\"x\\\": 1690.0, \\\"y\\\": 500000.0}, {\\\"x\\\": 1960.0, \\\"y\\\": 308000.0}, {\\\"x\\\": 2390.0, \\\"y\\\": 565000.0}, {\\\"x\\\": 2600.0, \\\"y\\\": 581000.0}, {\\\"x\\\": 1950.0, \\\"y\\\": 361000.0}, {\\\"x\\\": 1250.0, \\\"y\\\": 345000.0}, {\\\"x\\\": 1180.0, \\\"y\\\": 419000.0}, {\\\"x\\\": 1680.0, \\\"y\\\": 347000.0}, {\\\"x\\\": 2220.0, \\\"y\\\": 625000.0}, {\\\"x\\\": 4890.0, \\\"y\\\": 2400000.0}, {\\\"x\\\": 2660.0, \\\"y\\\": 379000.0}, {\\\"x\\\": 1150.0, \\\"y\\\": 310000.0}, {\\\"x\\\": 1130.0, \\\"y\\\": 250000.0}, {\\\"x\\\": 2760.0, \\\"y\\\": 682000.0}, {\\\"x\\\": 1430.0, \\\"y\\\": 246500.0}, {\\\"x\\\": 1490.0, \\\"y\\\": 325000.0}, {\\\"x\\\": 2030.0, \\\"y\\\": 310950.0}, {\\\"x\\\": 3010.0, \\\"y\\\": 1100000.0}, {\\\"x\\\": 1810.0, \\\"y\\\": 287500.0}, {\\\"x\\\": 1810.0, \\\"y\\\": 431000.0}, {\\\"x\\\": 970.0, \\\"y\\\": 226000.0}, {\\\"x\\\": 2010.0, \\\"y\\\": 825000.0}, {\\\"x\\\": 1300.0, \\\"y\\\": 175000.0}, {\\\"x\\\": 1260.0, \\\"y\\\": 465750.0}, {\\\"x\\\": 2610.0, \\\"y\\\": 659000.0}, {\\\"x\\\": 1910.0, \\\"y\\\": 595000.0}, {\\\"x\\\": 1780.0, \\\"y\\\": 350000.0}, {\\\"x\\\": 1900.0, \\\"y\\\": 270000.0}, {\\\"x\\\": 2450.0, \\\"y\\\": 662500.0}, {\\\"x\\\": 1380.0, \\\"y\\\": 249900.0}, {\\\"x\\\": 1920.0, \\\"y\\\": 324500.0}, {\\\"x\\\": 1350.0, \\\"y\\\": 430000.0}, {\\\"x\\\": 1350.0, \\\"y\\\": 419950.0}, {\\\"x\\\": 2510.0, \\\"y\\\": 285000.0}, {\\\"x\\\": 2470.0, \\\"y\\\": 332000.0}, {\\\"x\\\": 1660.0, \\\"y\\\": 282000.0}, {\\\"x\\\": 1340.0, \\\"y\\\": 320000.0}, {\\\"x\\\": 1620.0, \\\"y\\\": 428750.0}, {\\\"x\\\": 2300.0, \\\"y\\\": 330000.0}, {\\\"x\\\": 2000.0, \\\"y\\\": 456500.0}, {\\\"x\\\": 1640.0, \\\"y\\\": 352000.0}, {\\\"x\\\": 1530.0, \\\"y\\\": 664000.0}, {\\\"x\\\": 4000.0, \\\"y\\\": 628000.0}, {\\\"x\\\": 1610.0, \\\"y\\\": 512000.0}, {\\\"x\\\": 2070.0, \\\"y\\\": 254000.0}, {\\\"x\\\": 1900.0, \\\"y\\\": 535800.0}, {\\\"x\\\": 1050.0, \\\"y\\\": 287653.0}, {\\\"x\\\": 1520.0, \\\"y\\\": 438000.0}, {\\\"x\\\": 2390.0, \\\"y\\\": 450000.0}, {\\\"x\\\": 2400.0, \\\"y\\\": 327000.0}, {\\\"x\\\": 1790.0, \\\"y\\\": 370500.0}, {\\\"x\\\": 1720.0, \\\"y\\\": 265000.0}, {\\\"x\\\": 2980.0, \\\"y\\\": 450000.0}, {\\\"x\\\": 1520.0, \\\"y\\\": 425000.0}, {\\\"x\\\": 1150.0, \\\"y\\\": 166600.0}, {\\\"x\\\": 380.0, \\\"y\\\": 245000.0}, {\\\"x\\\": 910.0, \\\"y\\\": 565000.0}, {\\\"x\\\": 1650.0, \\\"y\\\": 539900.0}, {\\\"x\\\": 2480.0, \\\"y\\\": 910000.0}, {\\\"x\\\": 2050.0, \\\"y\\\": 280000.0}, {\\\"x\\\": 1420.0, \\\"y\\\": 275000.0}, {\\\"x\\\": 3460.0, \\\"y\\\": 467000.0}, {\\\"x\\\": 1500.0, \\\"y\\\": 457500.0}, {\\\"x\\\": 1320.0, \\\"y\\\": 381156.0}, {\\\"x\\\": 2180.0, \\\"y\\\": 289999.0}, {\\\"x\\\": 1830.0, \\\"y\\\": 642450.0}, {\\\"x\\\": 1620.0, \\\"y\\\": 469950.0}, {\\\"x\\\": 2920.0, \\\"y\\\": 795000.0}, {\\\"x\\\": 3300.0, \\\"y\\\": 785000.0}, {\\\"x\\\": 3060.0, \\\"y\\\": 860000.0}, {\\\"x\\\": 3064.0, \\\"y\\\": 1095000.0}, {\\\"x\\\": 1530.0, \\\"y\\\": 147500.0}, {\\\"x\\\": 1910.0, \\\"y\\\": 390000.0}, {\\\"x\\\": 1020.0, \\\"y\\\": 229000.0}, {\\\"x\\\": 1150.0, \\\"y\\\": 185000.0}, {\\\"x\\\": 1260.0, \\\"y\\\": 414900.0}, {\\\"x\\\": 1920.0, \\\"y\\\": 200000.0}, {\\\"x\\\": 1800.0, \\\"y\\\": 225000.0}, {\\\"x\\\": 2040.0, \\\"y\\\": 720000.0}, {\\\"x\\\": 2200.0, \\\"y\\\": 930000.0}, {\\\"x\\\": 3200.0, \\\"y\\\": 1270000.0}, {\\\"x\\\": 2400.0, \\\"y\\\": 700000.0}, {\\\"x\\\": 1140.0, \\\"y\\\": 466000.0}, {\\\"x\\\": 1330.0, \\\"y\\\": 374000.0}, {\\\"x\\\": 1940.0, \\\"y\\\": 480000.0}, {\\\"x\\\": 3000.0, \\\"y\\\": 740000.0}, {\\\"x\\\": 1820.0, \\\"y\\\": 1010000.0}, {\\\"x\\\": 2910.0, \\\"y\\\": 395000.0}, {\\\"x\\\": 1090.0, \\\"y\\\": 340000.0}, {\\\"x\\\": 1230.0, \\\"y\\\": 209000.0}, {\\\"x\\\": 1710.0, \\\"y\\\": 431650.0}, {\\\"x\\\": 3160.0, \\\"y\\\": 980000.0}, {\\\"x\\\": 2680.0, \\\"y\\\": 660000.0}, {\\\"x\\\": 2190.0, \\\"y\\\": 730000.0}, {\\\"x\\\": 1260.0, \\\"y\\\": 291500.0}, {\\\"x\\\": 2970.0, \\\"y\\\": 905000.0}, {\\\"x\\\": 2570.0, \\\"y\\\": 800000.0}, {\\\"x\\\": 3810.0, \\\"y\\\": 839900.0}, {\\\"x\\\": 1010.0, \\\"y\\\": 200000.0}, {\\\"x\\\": 1480.0, \\\"y\\\": 300000.0}, {\\\"x\\\": 1250.0, \\\"y\\\": 530000.0}, {\\\"x\\\": 1654.0, \\\"y\\\": 314950.0}, {\\\"x\\\": 1410.0, \\\"y\\\": 255000.0}, {\\\"x\\\": 2160.0, \\\"y\\\": 550000.0}, {\\\"x\\\": 1400.0, \\\"y\\\": 435000.0}, {\\\"x\\\": 1420.0, \\\"y\\\": 234000.0}, {\\\"x\\\": 2500.0, \\\"y\\\": 615000.0}, {\\\"x\\\": 1410.0, \\\"y\\\": 205000.0}, {\\\"x\\\": 2100.0, \\\"y\\\": 384000.0}, {\\\"x\\\": 1750.0, \\\"y\\\": 324000.0}, {\\\"x\\\": 2070.0, \\\"y\\\": 645000.0}, {\\\"x\\\": 1570.0, \\\"y\\\": 570000.0}, {\\\"x\\\": 1920.0, \\\"y\\\": 324000.0}, {\\\"x\\\": 1000.0, \\\"y\\\": 270000.0}, {\\\"x\\\": 2120.0, \\\"y\\\": 290000.0}, {\\\"x\\\": 1440.0, \\\"y\\\": 250000.0}, {\\\"x\\\": 1660.0, \\\"y\\\": 342000.0}, {\\\"x\\\": 1340.0, \\\"y\\\": 255000.0}, {\\\"x\\\": 2380.0, \\\"y\\\": 800000.0}, {\\\"x\\\": 1560.0, \\\"y\\\": 451000.0}, {\\\"x\\\": 2780.0, \\\"y\\\": 990000.0}, {\\\"x\\\": 1860.0, \\\"y\\\": 288400.0}, {\\\"x\\\": 2390.0, \\\"y\\\": 420000.0}, {\\\"x\\\": 1370.0, \\\"y\\\": 359000.0}, {\\\"x\\\": 2570.0, \\\"y\\\": 390000.0}, {\\\"x\\\": 1320.0, \\\"y\\\": 300000.0}, {\\\"x\\\": 2520.0, \\\"y\\\": 545000.0}, {\\\"x\\\": 1250.0, \\\"y\\\": 288349.0}, {\\\"x\\\": 1560.0, \\\"y\\\": 299900.0}, {\\\"x\\\": 2330.0, \\\"y\\\": 891000.0}, {\\\"x\\\": 3660.0, \\\"y\\\": 1200000.0}, {\\\"x\\\": 2790.0, \\\"y\\\": 378000.0}, {\\\"x\\\": 1060.0, \\\"y\\\": 299995.0}, {\\\"x\\\": 2020.0, \\\"y\\\": 253000.0}, {\\\"x\\\": 1580.0, \\\"y\\\": 350000.0}, {\\\"x\\\": 2020.0, \\\"y\\\": 565000.0}, {\\\"x\\\": 970.0, \\\"y\\\": 315000.0}, {\\\"x\\\": 1490.0, \\\"y\\\": 570000.0}, {\\\"x\\\": 4390.0, \\\"y\\\": 971000.0}, {\\\"x\\\": 2750.0, \\\"y\\\": 915000.0}, {\\\"x\\\": 2150.0, \\\"y\\\": 419000.0}, {\\\"x\\\": 1810.0, \\\"y\\\": 260000.0}, {\\\"x\\\": 2230.0, \\\"y\\\": 1321500.0}, {\\\"x\\\": 2430.0, \\\"y\\\": 369950.0}, {\\\"x\\\": 3680.0, \\\"y\\\": 1029900.0}, {\\\"x\\\": 1410.0, \\\"y\\\": 435000.0}, {\\\"x\\\": 1330.0, \\\"y\\\": 601000.0}, {\\\"x\\\": 1490.0, \\\"y\\\": 460500.0}, {\\\"x\\\": 2020.0, \\\"y\\\": 720000.0}, {\\\"x\\\": 3130.0, \\\"y\\\": 851000.0}, {\\\"x\\\": 2670.0, \\\"y\\\": 550000.0}, {\\\"x\\\": 1980.0, \\\"y\\\": 700000.0}, {\\\"x\\\": 2100.0, \\\"y\\\": 323000.0}, {\\\"x\\\": 1350.0, \\\"y\\\": 345500.0}, {\\\"x\\\": 2140.0, \\\"y\\\": 378000.0}, {\\\"x\\\": 2208.0, \\\"y\\\": 650000.0}, {\\\"x\\\": 1010.0, \\\"y\\\": 385000.0}, {\\\"x\\\": 970.0, \\\"y\\\": 425000.0}, {\\\"x\\\": 1520.0, \\\"y\\\": 210000.0}, {\\\"x\\\": 2740.0, \\\"y\\\": 630000.0}, {\\\"x\\\": 1570.0, \\\"y\\\": 335000.0}, {\\\"x\\\": 1320.0, \\\"y\\\": 196500.0}, {\\\"x\\\": 2550.0, \\\"y\\\": 582800.0}, {\\\"x\\\": 1560.0, \\\"y\\\": 440000.0}, {\\\"x\\\": 2360.0, \\\"y\\\": 752500.0}, {\\\"x\\\": 1330.0, \\\"y\\\": 532500.0}, {\\\"x\\\": 1070.0, \\\"y\\\": 265000.0}, {\\\"x\\\": 1510.0, \\\"y\\\": 397500.0}, {\\\"x\\\": 1710.0, \\\"y\\\": 524250.0}, {\\\"x\\\": 2790.0, \\\"y\\\": 765000.0}, {\\\"x\\\": 2620.0, \\\"y\\\": 648000.0}, {\\\"x\\\": 2970.0, \\\"y\\\": 469500.0}, {\\\"x\\\": 1050.0, \\\"y\\\": 237500.0}, {\\\"x\\\": 1280.0, \\\"y\\\": 216000.0}, {\\\"x\\\": 1030.0, \\\"y\\\": 427200.0}, {\\\"x\\\": 1900.0, \\\"y\\\": 280000.0}, {\\\"x\\\": 3070.0, \\\"y\\\": 718000.0}, {\\\"x\\\": 1760.0, \\\"y\\\": 420000.0}, {\\\"x\\\": 930.0, \\\"y\\\": 379000.0}, {\\\"x\\\": 880.0, \\\"y\\\": 326100.0}, {\\\"x\\\": 1360.0, \\\"y\\\": 535000.0}, {\\\"x\\\": 2130.0, \\\"y\\\": 283000.0}, {\\\"x\\\": 1480.0, \\\"y\\\": 260000.0}, {\\\"x\\\": 1500.0, \\\"y\\\": 399000.0}, {\\\"x\\\": 1670.0, \\\"y\\\": 484950.0}, {\\\"x\\\": 2060.0, \\\"y\\\": 640000.0}, {\\\"x\\\": 2160.0, \\\"y\\\": 585000.0}, {\\\"x\\\": 2780.0, \\\"y\\\": 645000.0}, {\\\"x\\\": 1490.0, \\\"y\\\": 253000.0}, {\\\"x\\\": 740.0, \\\"y\\\": 178500.0}, {\\\"x\\\": 1860.0, \\\"y\\\": 291000.0}, {\\\"x\\\": 1590.0, \\\"y\\\": 199950.0}, {\\\"x\\\": 850.0, \\\"y\\\": 553500.0}, {\\\"x\\\": 1030.0, \\\"y\\\": 189950.0}, {\\\"x\\\": 1850.0, \\\"y\\\": 289000.0}]}], \\\"marks\\\": [{\\\"name\\\": \\\"marks\\\", \\\"type\\\": \\\"symbol\\\", \\\"style\\\": [\\\"circle\\\"], \\\"from\\\": {\\\"data\\\": \\\"source_2\\\"}, \\\"encode\\\": {\\\"hover\\\": {\\\"fill\\\": {\\\"value\\\": \\\"#7EC2F3\\\"}}, \\\"update\\\": {\\\"x\\\": {\\\"scale\\\": \\\"x\\\", \\\"field\\\": \\\"x\\\"}, \\\"y\\\": {\\\"scale\\\": \\\"y\\\", \\\"field\\\": \\\"y\\\", \\\"title\\\": \\\"Miles per Gallon\\\"}, \\\"fill\\\": {\\\"value\\\": \\\"#108EE9\\\"}, \\\"shape\\\": {\\\"value\\\": \\\"circle\\\"}, \\\"opacity\\\": {\\\"value\\\": 0.7}}}}], \\\"scales\\\": [{\\\"name\\\": \\\"x\\\", \\\"type\\\": \\\"linear\\\", \\\"domain\\\": {\\\"data\\\": \\\"source_2\\\", \\\"field\\\": \\\"x\\\"}, \\\"range\\\": [0, {\\\"signal\\\": \\\"width\\\"}], \\\"nice\\\": true, \\\"zero\\\": false, \\\"padding\\\": 5}, {\\\"name\\\": \\\"y\\\", \\\"type\\\": \\\"linear\\\", \\\"domain\\\": {\\\"data\\\": \\\"source_2\\\", \\\"field\\\": \\\"y\\\"}, \\\"range\\\": [{\\\"signal\\\": \\\"height\\\"}, 0], \\\"nice\\\": true, \\\"zero\\\": false, \\\"padding\\\": 5}], \\\"axes\\\": [{\\\"scale\\\": \\\"x\\\", \\\"labelOverlap\\\": true, \\\"orient\\\": \\\"bottom\\\", \\\"tickCount\\\": {\\\"signal\\\": \\\"ceil(width/40)\\\"}, \\\"title\\\": \\\"X\\\", \\\"zindex\\\": 1}, {\\\"scale\\\": \\\"x\\\", \\\"domain\\\": false, \\\"grid\\\": true, \\\"labels\\\": false, \\\"maxExtent\\\": 0, \\\"minExtent\\\": 0, \\\"orient\\\": \\\"bottom\\\", \\\"tickCount\\\": {\\\"signal\\\": \\\"ceil(width/40)\\\"}, \\\"ticks\\\": false, \\\"zindex\\\": 0, \\\"gridScale\\\": \\\"y\\\"}, {\\\"scale\\\": \\\"y\\\", \\\"labelOverlap\\\": true, \\\"orient\\\": \\\"left\\\", \\\"tickCount\\\": {\\\"signal\\\": \\\"ceil(height/40)\\\"}, \\\"title\\\": \\\"Y\\\", \\\"zindex\\\": 1}, {\\\"scale\\\": \\\"y\\\", \\\"domain\\\": false, \\\"grid\\\": true, \\\"labels\\\": false, \\\"maxExtent\\\": 0, \\\"minExtent\\\": 0, \\\"orient\\\": \\\"left\\\", \\\"tickCount\\\": {\\\"signal\\\": \\\"ceil(height/40)\\\"}, \\\"ticks\\\": false, \\\"zindex\\\": 0, \\\"gridScale\\\": \\\"x\\\"}], \\\"config\\\": {\\\"axis\\\": {\\\"gridColor\\\": \\\"rgba(204,204,204,1.0)\\\", \\\"labelFont\\\": \\\"\\\\\\\"San Francisco\\\\\\\", HelveticaNeue, Arial\\\", \\\"labelFontSize\\\": 12, \\\"labelPadding\\\": 10, \\\"labelColor\\\": \\\"rgba(0,0,0,0.847)\\\", \\\"tickColor\\\": \\\"rgb(136,136,136)\\\", \\\"titleFont\\\": \\\"\\\\\\\"San Francisco\\\\\\\", HelveticaNeue, Arial\\\", \\\"titleFontWeight\\\": \\\"normal\\\", \\\"titlePadding\\\": 20, \\\"titleFontSize\\\": 14, \\\"titleColor\\\": \\\"rgba(0,0,0,0.847)\\\"}, \\\"axisY\\\": {\\\"minExtent\\\": 30}, \\\"legend\\\": {\\\"labelFont\\\": \\\"\\\\\\\"San Francisco\\\\\\\", HelveticaNeue, Arial\\\", \\\"labelColor\\\": \\\"rgba(0,0,0,0.847)\\\", \\\"titleFont\\\": \\\"\\\\\\\"San Francisco\\\\\\\", HelveticaNeue, Arial\\\", \\\"cornerRadius\\\": 30, \\\"gradientLength\\\": 608, \\\"titleColor\\\": \\\"rgba(0,0,0,0.847)\\\"}, \\\"range\\\": {\\\"heatmap\\\": {\\\"scheme\\\": \\\"greenblue\\\"}}, \\\"style\\\": {\\\"rect\\\": {\\\"stroke\\\": \\\"rgba(200, 200, 200, 0.5)\\\"}, \\\"cell\\\": {\\\"stroke\\\": \\\"transparent\\\"}, \\\"group-title\\\": {\\\"fontSize\\\": 29, \\\"font\\\": \\\"HelveticaNeue, Arial\\\", \\\"fontWeight\\\": \\\"normal\\\", \\\"fill\\\": \\\"rgba(0,0,0,0.65)\\\"}}, \\\"title\\\": {\\\"color\\\": \\\"rgba(0,0,0,0.847)\\\", \\\"font\\\": \\\"\\\\\\\"San Francisco\\\\\\\", HelveticaNeue, Arial\\\", \\\"fontSize\\\": 18, \\\"fontWeight\\\": \\\"normal\\\", \\\"offset\\\": 30}}}\";                                 var vega_json_parsed = JSON.parse(vega_json);                                 var toolTipOpts = {                                     showAllFields: true                                 };                                 if(vega_json_parsed[\"metadata\"] != null){                                     if(vega_json_parsed[\"metadata\"][\"bubbleOpts\"] != null){                                         toolTipOpts = vega_json_parsed[\"metadata\"][\"bubbleOpts\"];                                     };                                 };                                 vegaEmbed(\"#vis\", vega_json_parsed).then(function (result) {                                     vegaTooltip.vega(result.view, toolTipOpts);                                  });                             </script>                         </body>                     </html>' src=\"demo_iframe_srcdoc.htm\">                         <p>Your browser does not support iframes.</p>                     </iframe>                 </body>             </html>"
      ],
      "text/plain": [
       "<IPython.core.display.HTML object>"
      ]
     },
     "metadata": {},
     "output_type": "display_data"
    }
   ],
   "source": [
    "tc.show(data1[1:1000][\"sqft_living\"],data1[1:1000][\"price\"])"
   ]
  },
  {
   "cell_type": "markdown",
   "metadata": {},
   "source": [
    "# build regression model that prdicts price from square feet"
   ]
  },
  {
   "cell_type": "markdown",
   "metadata": {},
   "source": [
    "## data_split"
   ]
  },
  {
   "cell_type": "code",
   "execution_count": 5,
   "metadata": {},
   "outputs": [],
   "source": [
    "train_set, test_set = data1.random_split(0.8, seed = 0)"
   ]
  },
  {
   "cell_type": "code",
   "execution_count": 6,
   "metadata": {},
   "outputs": [
    {
     "name": "stdout",
     "output_type": "stream",
     "text": [
      "PROGRESS: Creating a validation set from 5 percent of training data. This may take a while.\n",
      "          You can set ``validation_set=None`` to disable validation tracking.\n",
      "\n"
     ]
    },
    {
     "data": {
      "text/html": [
       "<pre>Linear regression:</pre>"
      ],
      "text/plain": [
       "Linear regression:"
      ]
     },
     "metadata": {},
     "output_type": "display_data"
    },
    {
     "data": {
      "text/html": [
       "<pre>--------------------------------------------------------</pre>"
      ],
      "text/plain": [
       "--------------------------------------------------------"
      ]
     },
     "metadata": {},
     "output_type": "display_data"
    },
    {
     "data": {
      "text/html": [
       "<pre>Number of examples          : 16514</pre>"
      ],
      "text/plain": [
       "Number of examples          : 16514"
      ]
     },
     "metadata": {},
     "output_type": "display_data"
    },
    {
     "data": {
      "text/html": [
       "<pre>Number of features          : 1</pre>"
      ],
      "text/plain": [
       "Number of features          : 1"
      ]
     },
     "metadata": {},
     "output_type": "display_data"
    },
    {
     "data": {
      "text/html": [
       "<pre>Number of unpacked features : 1</pre>"
      ],
      "text/plain": [
       "Number of unpacked features : 1"
      ]
     },
     "metadata": {},
     "output_type": "display_data"
    },
    {
     "data": {
      "text/html": [
       "<pre>Number of coefficients    : 2</pre>"
      ],
      "text/plain": [
       "Number of coefficients    : 2"
      ]
     },
     "metadata": {},
     "output_type": "display_data"
    },
    {
     "data": {
      "text/html": [
       "<pre>Starting Newton Method</pre>"
      ],
      "text/plain": [
       "Starting Newton Method"
      ]
     },
     "metadata": {},
     "output_type": "display_data"
    },
    {
     "data": {
      "text/html": [
       "<pre>--------------------------------------------------------</pre>"
      ],
      "text/plain": [
       "--------------------------------------------------------"
      ]
     },
     "metadata": {},
     "output_type": "display_data"
    },
    {
     "data": {
      "text/html": [
       "<pre>+-----------+----------+--------------+--------------------+----------------------+---------------------------------+-----------------------------------+</pre>"
      ],
      "text/plain": [
       "+-----------+----------+--------------+--------------------+----------------------+---------------------------------+-----------------------------------+"
      ]
     },
     "metadata": {},
     "output_type": "display_data"
    },
    {
     "data": {
      "text/html": [
       "<pre>| Iteration | Passes   | Elapsed Time | Training Max Error | Validation Max Error | Training Root-Mean-Square Error | Validation Root-Mean-Square Error |</pre>"
      ],
      "text/plain": [
       "| Iteration | Passes   | Elapsed Time | Training Max Error | Validation Max Error | Training Root-Mean-Square Error | Validation Root-Mean-Square Error |"
      ]
     },
     "metadata": {},
     "output_type": "display_data"
    },
    {
     "data": {
      "text/html": [
       "<pre>+-----------+----------+--------------+--------------------+----------------------+---------------------------------+-----------------------------------+</pre>"
      ],
      "text/plain": [
       "+-----------+----------+--------------+--------------------+----------------------+---------------------------------+-----------------------------------+"
      ]
     },
     "metadata": {},
     "output_type": "display_data"
    },
    {
     "data": {
      "text/html": [
       "<pre>| 1         | 2        | 1.019484     | 4345211.807084     | 1900178.513210       | 263202.332510                   | 257990.640409                     |</pre>"
      ],
      "text/plain": [
       "| 1         | 2        | 1.019484     | 4345211.807084     | 1900178.513210       | 263202.332510                   | 257990.640409                     |"
      ]
     },
     "metadata": {},
     "output_type": "display_data"
    },
    {
     "data": {
      "text/html": [
       "<pre>+-----------+----------+--------------+--------------------+----------------------+---------------------------------+-----------------------------------+</pre>"
      ],
      "text/plain": [
       "+-----------+----------+--------------+--------------------+----------------------+---------------------------------+-----------------------------------+"
      ]
     },
     "metadata": {},
     "output_type": "display_data"
    },
    {
     "data": {
      "text/html": [
       "<pre>SUCCESS: Optimal solution found.</pre>"
      ],
      "text/plain": [
       "SUCCESS: Optimal solution found."
      ]
     },
     "metadata": {},
     "output_type": "display_data"
    },
    {
     "data": {
      "text/html": [
       "<pre></pre>"
      ],
      "text/plain": []
     },
     "metadata": {},
     "output_type": "display_data"
    }
   ],
   "source": [
    "mymodel = tc.linear_regression.create(train_set, target = \"price\", features=[\"sqft_living\"])"
   ]
  },
  {
   "cell_type": "markdown",
   "metadata": {},
   "source": [
    "## evaluate the model"
   ]
  },
  {
   "cell_type": "code",
   "execution_count": 7,
   "metadata": {
    "scrolled": true
   },
   "outputs": [
    {
     "name": "stdout",
     "output_type": "stream",
     "text": [
      "{'max_error': 4345211.807083826, 'rmse': 262943.9635579369}\n",
      "{'max_error': 4140202.294548567, 'rmse': 255203.36325920414}\n"
     ]
    }
   ],
   "source": [
    "print(mymodel.evaluate(train_set))\n",
    "print(mymodel.evaluate(test_set))"
   ]
  },
  {
   "cell_type": "code",
   "execution_count": 8,
   "metadata": {},
   "outputs": [
    {
     "data": {
      "text/html": [
       "<div style=\"max-height:1000px;max-width:1500px;overflow:auto;\"><table frame=\"box\" rules=\"cols\">\n",
       "    <tr>\n",
       "        <th style=\"padding-left: 1em; padding-right: 1em; text-align: center\">name</th>\n",
       "        <th style=\"padding-left: 1em; padding-right: 1em; text-align: center\">index</th>\n",
       "        <th style=\"padding-left: 1em; padding-right: 1em; text-align: center\">value</th>\n",
       "        <th style=\"padding-left: 1em; padding-right: 1em; text-align: center\">stderr</th>\n",
       "    </tr>\n",
       "    <tr>\n",
       "        <td style=\"padding-left: 1em; padding-right: 1em; text-align: center; vertical-align: top\">(intercept)</td>\n",
       "        <td style=\"padding-left: 1em; padding-right: 1em; text-align: center; vertical-align: top\">None</td>\n",
       "        <td style=\"padding-left: 1em; padding-right: 1em; text-align: center; vertical-align: top\">-48167.99872740777</td>\n",
       "        <td style=\"padding-left: 1em; padding-right: 1em; text-align: center; vertical-align: top\">5047.6205408154365</td>\n",
       "    </tr>\n",
       "    <tr>\n",
       "        <td style=\"padding-left: 1em; padding-right: 1em; text-align: center; vertical-align: top\">sqft_living</td>\n",
       "        <td style=\"padding-left: 1em; padding-right: 1em; text-align: center; vertical-align: top\">None</td>\n",
       "        <td style=\"padding-left: 1em; padding-right: 1em; text-align: center; vertical-align: top\">282.40300345589895</td>\n",
       "        <td style=\"padding-left: 1em; padding-right: 1em; text-align: center; vertical-align: top\">2.217671134338314</td>\n",
       "    </tr>\n",
       "</table>\n",
       "[2 rows x 4 columns]<br/>\n",
       "</div>"
      ],
      "text/plain": [
       "Columns:\n",
       "\tname\tstr\n",
       "\tindex\tstr\n",
       "\tvalue\tfloat\n",
       "\tstderr\tfloat\n",
       "\n",
       "Rows: 2\n",
       "\n",
       "Data:\n",
       "+-------------+-------+--------------------+--------------------+\n",
       "|     name    | index |       value        |       stderr       |\n",
       "+-------------+-------+--------------------+--------------------+\n",
       "| (intercept) |  None | -48167.99872740777 | 5047.6205408154365 |\n",
       "| sqft_living |  None | 282.40300345589895 | 2.217671134338314  |\n",
       "+-------------+-------+--------------------+--------------------+\n",
       "[2 rows x 4 columns]"
      ]
     },
     "execution_count": 8,
     "metadata": {},
     "output_type": "execute_result"
    }
   ],
   "source": [
    "mymodel.coefficients"
   ]
  },
  {
   "cell_type": "markdown",
   "metadata": {},
   "source": [
    "## matplotlib tutorial"
   ]
  },
  {
   "cell_type": "markdown",
   "metadata": {},
   "source": [
    "#https://matplotlib.org/tutorials/introductory/pyplot.html#sphx-glr-tutorials-introductory-pyplot-py"
   ]
  },
  {
   "cell_type": "code",
   "execution_count": 81,
   "metadata": {
    "scrolled": true
   },
   "outputs": [
    {
     "data": {
      "image/png": "[encoded data removed]",
      "text/plain": [
       "<Figure size 432x288 with 2 Axes>"
      ]
     },
     "metadata": {
      "needs_background": "light"
     },
     "output_type": "display_data"
    }
   ],
   "source": [
    "import matplotlib.pyplot as plt\n",
    "%matplotlib inline \n",
    "fig , ax = plt.subplots()\n",
    "fig.subplots_adjust(hspace=0.2, wspace=0.4) #設定子圖的間隔\n",
    "for i in range(1,3):\n",
    "    plt.subplot(1,2,i)\n",
    "    if i is 1:\n",
    "        plt.title(\"test\")\n",
    "        plt.plot(test_set['sqft_living'], test_set['price'], '.',\n",
    "                test_set['sqft_living'],mymodel.predict(test_set),'-')\n",
    "        \n",
    "    else:\n",
    "        plt.title(\"train\")\n",
    "        plt.plot(train_set['sqft_living'], train_set['price'], '.',\n",
    "                 train_set['sqft_living'],mymodel.predict(train_set),'-')"
   ]
  },
  {
   "cell_type": "markdown",
   "metadata": {},
   "source": [
    "# build model with more features"
   ]
  },
  {
   "cell_type": "code",
   "execution_count": 68,
   "metadata": {},
   "outputs": [
    {
     "data": {
      "text/html": [
       "<div style=\"max-height:1000px;max-width:1500px;overflow:auto;\"><table frame=\"box\" rules=\"cols\">\n",
       "    <tr>\n",
       "        <th style=\"padding-left: 1em; padding-right: 1em; text-align: center\">bedrooms</th>\n",
       "        <th style=\"padding-left: 1em; padding-right: 1em; text-align: center\">bathrooms</th>\n",
       "        <th style=\"padding-left: 1em; padding-right: 1em; text-align: center\">sqft_living</th>\n",
       "        <th style=\"padding-left: 1em; padding-right: 1em; text-align: center\">sqft_lot</th>\n",
       "        <th style=\"padding-left: 1em; padding-right: 1em; text-align: center\">floors</th>\n",
       "        <th style=\"padding-left: 1em; padding-right: 1em; text-align: center\">zipcode</th>\n",
       "    </tr>\n",
       "    <tr>\n",
       "        <td style=\"padding-left: 1em; padding-right: 1em; text-align: center; vertical-align: top\">3.0</td>\n",
       "        <td style=\"padding-left: 1em; padding-right: 1em; text-align: center; vertical-align: top\">1.0</td>\n",
       "        <td style=\"padding-left: 1em; padding-right: 1em; text-align: center; vertical-align: top\">1180.0</td>\n",
       "        <td style=\"padding-left: 1em; padding-right: 1em; text-align: center; vertical-align: top\">5650.0</td>\n",
       "        <td style=\"padding-left: 1em; padding-right: 1em; text-align: center; vertical-align: top\">1.0</td>\n",
       "        <td style=\"padding-left: 1em; padding-right: 1em; text-align: center; vertical-align: top\">98178</td>\n",
       "    </tr>\n",
       "    <tr>\n",
       "        <td style=\"padding-left: 1em; padding-right: 1em; text-align: center; vertical-align: top\">3.0</td>\n",
       "        <td style=\"padding-left: 1em; padding-right: 1em; text-align: center; vertical-align: top\">2.25</td>\n",
       "        <td style=\"padding-left: 1em; padding-right: 1em; text-align: center; vertical-align: top\">2570.0</td>\n",
       "        <td style=\"padding-left: 1em; padding-right: 1em; text-align: center; vertical-align: top\">7242.0</td>\n",
       "        <td style=\"padding-left: 1em; padding-right: 1em; text-align: center; vertical-align: top\">2.0</td>\n",
       "        <td style=\"padding-left: 1em; padding-right: 1em; text-align: center; vertical-align: top\">98125</td>\n",
       "    </tr>\n",
       "    <tr>\n",
       "        <td style=\"padding-left: 1em; padding-right: 1em; text-align: center; vertical-align: top\">2.0</td>\n",
       "        <td style=\"padding-left: 1em; padding-right: 1em; text-align: center; vertical-align: top\">1.0</td>\n",
       "        <td style=\"padding-left: 1em; padding-right: 1em; text-align: center; vertical-align: top\">770.0</td>\n",
       "        <td style=\"padding-left: 1em; padding-right: 1em; text-align: center; vertical-align: top\">10000.0</td>\n",
       "        <td style=\"padding-left: 1em; padding-right: 1em; text-align: center; vertical-align: top\">1.0</td>\n",
       "        <td style=\"padding-left: 1em; padding-right: 1em; text-align: center; vertical-align: top\">98028</td>\n",
       "    </tr>\n",
       "    <tr>\n",
       "        <td style=\"padding-left: 1em; padding-right: 1em; text-align: center; vertical-align: top\">4.0</td>\n",
       "        <td style=\"padding-left: 1em; padding-right: 1em; text-align: center; vertical-align: top\">3.0</td>\n",
       "        <td style=\"padding-left: 1em; padding-right: 1em; text-align: center; vertical-align: top\">1960.0</td>\n",
       "        <td style=\"padding-left: 1em; padding-right: 1em; text-align: center; vertical-align: top\">5000.0</td>\n",
       "        <td style=\"padding-left: 1em; padding-right: 1em; text-align: center; vertical-align: top\">1.0</td>\n",
       "        <td style=\"padding-left: 1em; padding-right: 1em; text-align: center; vertical-align: top\">98136</td>\n",
       "    </tr>\n",
       "    <tr>\n",
       "        <td style=\"padding-left: 1em; padding-right: 1em; text-align: center; vertical-align: top\">3.0</td>\n",
       "        <td style=\"padding-left: 1em; padding-right: 1em; text-align: center; vertical-align: top\">2.0</td>\n",
       "        <td style=\"padding-left: 1em; padding-right: 1em; text-align: center; vertical-align: top\">1680.0</td>\n",
       "        <td style=\"padding-left: 1em; padding-right: 1em; text-align: center; vertical-align: top\">8080.0</td>\n",
       "        <td style=\"padding-left: 1em; padding-right: 1em; text-align: center; vertical-align: top\">1.0</td>\n",
       "        <td style=\"padding-left: 1em; padding-right: 1em; text-align: center; vertical-align: top\">98074</td>\n",
       "    </tr>\n",
       "    <tr>\n",
       "        <td style=\"padding-left: 1em; padding-right: 1em; text-align: center; vertical-align: top\">4.0</td>\n",
       "        <td style=\"padding-left: 1em; padding-right: 1em; text-align: center; vertical-align: top\">4.5</td>\n",
       "        <td style=\"padding-left: 1em; padding-right: 1em; text-align: center; vertical-align: top\">5420.0</td>\n",
       "        <td style=\"padding-left: 1em; padding-right: 1em; text-align: center; vertical-align: top\">101930.0</td>\n",
       "        <td style=\"padding-left: 1em; padding-right: 1em; text-align: center; vertical-align: top\">1.0</td>\n",
       "        <td style=\"padding-left: 1em; padding-right: 1em; text-align: center; vertical-align: top\">98053</td>\n",
       "    </tr>\n",
       "    <tr>\n",
       "        <td style=\"padding-left: 1em; padding-right: 1em; text-align: center; vertical-align: top\">3.0</td>\n",
       "        <td style=\"padding-left: 1em; padding-right: 1em; text-align: center; vertical-align: top\">2.25</td>\n",
       "        <td style=\"padding-left: 1em; padding-right: 1em; text-align: center; vertical-align: top\">1715.0</td>\n",
       "        <td style=\"padding-left: 1em; padding-right: 1em; text-align: center; vertical-align: top\">6819.0</td>\n",
       "        <td style=\"padding-left: 1em; padding-right: 1em; text-align: center; vertical-align: top\">2.0</td>\n",
       "        <td style=\"padding-left: 1em; padding-right: 1em; text-align: center; vertical-align: top\">98003</td>\n",
       "    </tr>\n",
       "    <tr>\n",
       "        <td style=\"padding-left: 1em; padding-right: 1em; text-align: center; vertical-align: top\">3.0</td>\n",
       "        <td style=\"padding-left: 1em; padding-right: 1em; text-align: center; vertical-align: top\">1.5</td>\n",
       "        <td style=\"padding-left: 1em; padding-right: 1em; text-align: center; vertical-align: top\">1060.0</td>\n",
       "        <td style=\"padding-left: 1em; padding-right: 1em; text-align: center; vertical-align: top\">9711.0</td>\n",
       "        <td style=\"padding-left: 1em; padding-right: 1em; text-align: center; vertical-align: top\">1.0</td>\n",
       "        <td style=\"padding-left: 1em; padding-right: 1em; text-align: center; vertical-align: top\">98198</td>\n",
       "    </tr>\n",
       "    <tr>\n",
       "        <td style=\"padding-left: 1em; padding-right: 1em; text-align: center; vertical-align: top\">3.0</td>\n",
       "        <td style=\"padding-left: 1em; padding-right: 1em; text-align: center; vertical-align: top\">1.0</td>\n",
       "        <td style=\"padding-left: 1em; padding-right: 1em; text-align: center; vertical-align: top\">1780.0</td>\n",
       "        <td style=\"padding-left: 1em; padding-right: 1em; text-align: center; vertical-align: top\">7470.0</td>\n",
       "        <td style=\"padding-left: 1em; padding-right: 1em; text-align: center; vertical-align: top\">1.0</td>\n",
       "        <td style=\"padding-left: 1em; padding-right: 1em; text-align: center; vertical-align: top\">98146</td>\n",
       "    </tr>\n",
       "    <tr>\n",
       "        <td style=\"padding-left: 1em; padding-right: 1em; text-align: center; vertical-align: top\">3.0</td>\n",
       "        <td style=\"padding-left: 1em; padding-right: 1em; text-align: center; vertical-align: top\">2.5</td>\n",
       "        <td style=\"padding-left: 1em; padding-right: 1em; text-align: center; vertical-align: top\">1890.0</td>\n",
       "        <td style=\"padding-left: 1em; padding-right: 1em; text-align: center; vertical-align: top\">6560.0</td>\n",
       "        <td style=\"padding-left: 1em; padding-right: 1em; text-align: center; vertical-align: top\">2.0</td>\n",
       "        <td style=\"padding-left: 1em; padding-right: 1em; text-align: center; vertical-align: top\">98038</td>\n",
       "    </tr>\n",
       "</table>\n",
       "[21613 rows x 6 columns]<br/>Note: Only the head of the SFrame is printed.<br/>You can use print_rows(num_rows=m, num_columns=n) to print more rows and columns.\n",
       "</div>"
      ],
      "text/plain": [
       "Columns:\n",
       "\tbedrooms\tfloat\n",
       "\tbathrooms\tfloat\n",
       "\tsqft_living\tfloat\n",
       "\tsqft_lot\tfloat\n",
       "\tfloors\tfloat\n",
       "\tzipcode\tstr\n",
       "\n",
       "Rows: 21613\n",
       "\n",
       "Data:\n",
       "+----------+-----------+-------------+----------+--------+---------+\n",
       "| bedrooms | bathrooms | sqft_living | sqft_lot | floors | zipcode |\n",
       "+----------+-----------+-------------+----------+--------+---------+\n",
       "|   3.0    |    1.0    |    1180.0   |  5650.0  |  1.0   |  98178  |\n",
       "|   3.0    |    2.25   |    2570.0   |  7242.0  |  2.0   |  98125  |\n",
       "|   2.0    |    1.0    |    770.0    | 10000.0  |  1.0   |  98028  |\n",
       "|   4.0    |    3.0    |    1960.0   |  5000.0  |  1.0   |  98136  |\n",
       "|   3.0    |    2.0    |    1680.0   |  8080.0  |  1.0   |  98074  |\n",
       "|   4.0    |    4.5    |    5420.0   | 101930.0 |  1.0   |  98053  |\n",
       "|   3.0    |    2.25   |    1715.0   |  6819.0  |  2.0   |  98003  |\n",
       "|   3.0    |    1.5    |    1060.0   |  9711.0  |  1.0   |  98198  |\n",
       "|   3.0    |    1.0    |    1780.0   |  7470.0  |  1.0   |  98146  |\n",
       "|   3.0    |    2.5    |    1890.0   |  6560.0  |  2.0   |  98038  |\n",
       "+----------+-----------+-------------+----------+--------+---------+\n",
       "[21613 rows x 6 columns]\n",
       "Note: Only the head of the SFrame is printed.\n",
       "You can use print_rows(num_rows=m, num_columns=n) to print more rows and columns."
      ]
     },
     "execution_count": 68,
     "metadata": {},
     "output_type": "execute_result"
    }
   ],
   "source": [
    "myfeature = ['bedrooms','bathrooms','sqft_living','sqft_lot','floors','zipcode']\n",
    "data1[myfeature]"
   ]
  },
  {
   "cell_type": "code",
   "execution_count": 72,
   "metadata": {},
   "outputs": [
    {
     "name": "stdout",
     "output_type": "stream",
     "text": [
      "PROGRESS: Creating a validation set from 5 percent of training data. This may take a while.\n",
      "          You can set ``validation_set=None`` to disable validation tracking.\n",
      "\n"
     ]
    },
    {
     "data": {
      "text/html": [
       "<pre>Linear regression:</pre>"
      ],
      "text/plain": [
       "Linear regression:"
      ]
     },
     "metadata": {},
     "output_type": "display_data"
    },
    {
     "data": {
      "text/html": [
       "<pre>--------------------------------------------------------</pre>"
      ],
      "text/plain": [
       "--------------------------------------------------------"
      ]
     },
     "metadata": {},
     "output_type": "display_data"
    },
    {
     "data": {
      "text/html": [
       "<pre>Number of examples          : 16514</pre>"
      ],
      "text/plain": [
       "Number of examples          : 16514"
      ]
     },
     "metadata": {},
     "output_type": "display_data"
    },
    {
     "data": {
      "text/html": [
       "<pre>Number of features          : 6</pre>"
      ],
      "text/plain": [
       "Number of features          : 6"
      ]
     },
     "metadata": {},
     "output_type": "display_data"
    },
    {
     "data": {
      "text/html": [
       "<pre>Number of unpacked features : 6</pre>"
      ],
      "text/plain": [
       "Number of unpacked features : 6"
      ]
     },
     "metadata": {},
     "output_type": "display_data"
    },
    {
     "data": {
      "text/html": [
       "<pre>Number of coefficients    : 75</pre>"
      ],
      "text/plain": [
       "Number of coefficients    : 75"
      ]
     },
     "metadata": {},
     "output_type": "display_data"
    },
    {
     "data": {
      "text/html": [
       "<pre>Starting Newton Method</pre>"
      ],
      "text/plain": [
       "Starting Newton Method"
      ]
     },
     "metadata": {},
     "output_type": "display_data"
    },
    {
     "data": {
      "text/html": [
       "<pre>--------------------------------------------------------</pre>"
      ],
      "text/plain": [
       "--------------------------------------------------------"
      ]
     },
     "metadata": {},
     "output_type": "display_data"
    },
    {
     "data": {
      "text/html": [
       "<pre>+-----------+----------+--------------+--------------------+----------------------+---------------------------------+-----------------------------------+</pre>"
      ],
      "text/plain": [
       "+-----------+----------+--------------+--------------------+----------------------+---------------------------------+-----------------------------------+"
      ]
     },
     "metadata": {},
     "output_type": "display_data"
    },
    {
     "data": {
      "text/html": [
       "<pre>| Iteration | Passes   | Elapsed Time | Training Max Error | Validation Max Error | Training Root-Mean-Square Error | Validation Root-Mean-Square Error |</pre>"
      ],
      "text/plain": [
       "| Iteration | Passes   | Elapsed Time | Training Max Error | Validation Max Error | Training Root-Mean-Square Error | Validation Root-Mean-Square Error |"
      ]
     },
     "metadata": {},
     "output_type": "display_data"
    },
    {
     "data": {
      "text/html": [
       "<pre>+-----------+----------+--------------+--------------------+----------------------+---------------------------------+-----------------------------------+</pre>"
      ],
      "text/plain": [
       "+-----------+----------+--------------+--------------------+----------------------+---------------------------------+-----------------------------------+"
      ]
     },
     "metadata": {},
     "output_type": "display_data"
    },
    {
     "data": {
      "text/html": [
       "<pre>| 1         | 2        | 0.035002     | 4080227.682127     | 1883512.096713       | 190411.058797                   | 165475.473006                     |</pre>"
      ],
      "text/plain": [
       "| 1         | 2        | 0.035002     | 4080227.682127     | 1883512.096713       | 190411.058797                   | 165475.473006                     |"
      ]
     },
     "metadata": {},
     "output_type": "display_data"
    },
    {
     "data": {
      "text/html": [
       "<pre>+-----------+----------+--------------+--------------------+----------------------+---------------------------------+-----------------------------------+</pre>"
      ],
      "text/plain": [
       "+-----------+----------+--------------+--------------------+----------------------+---------------------------------+-----------------------------------+"
      ]
     },
     "metadata": {},
     "output_type": "display_data"
    },
    {
     "data": {
      "text/html": [
       "<pre>SUCCESS: Optimal solution found.</pre>"
      ],
      "text/plain": [
       "SUCCESS: Optimal solution found."
      ]
     },
     "metadata": {},
     "output_type": "display_data"
    },
    {
     "data": {
      "text/html": [
       "<pre></pre>"
      ],
      "text/plain": []
     },
     "metadata": {},
     "output_type": "display_data"
    }
   ],
   "source": [
    "train, test = data1.random_split(.8, seed = 0)\n",
    "model2 = tc.linear_regression.create(train,target = 'price' , features=myfeature)"
   ]
  },
  {
   "cell_type": "markdown",
   "metadata": {},
   "source": [
    "## evaluate, comparison"
   ]
  },
  {
   "cell_type": "code",
   "execution_count": 77,
   "metadata": {},
   "outputs": [
    {
     "name": "stdout",
     "output_type": "stream",
     "text": [
      "{'max_error': 4140202.294548567, 'rmse': 255203.36325920414}\n",
      "{'max_error': 3175291.4830310512, 'rmse': 180762.0518812116}\n",
      " \n",
      "the more features brings the greater model\n"
     ]
    }
   ],
   "source": [
    "print(mymodel.evaluate(test_set))\n",
    "print(model2.evaluate(test)) #with 6 features\n",
    "print(\" \")\n",
    "print('the more features brings the greater model')"
   ]
  },
  {
   "cell_type": "markdown",
   "metadata": {},
   "source": [
    "# Apply learned models to make predictions"
   ]
  },
  {
   "cell_type": "markdown",
   "metadata": {},
   "source": [
    "### simple house"
   ]
  },
  {
   "cell_type": "code",
   "execution_count": 78,
   "metadata": {},
   "outputs": [],
   "source": [
    "house1 = data1[data1['id'] == \"5309101200\"]"
   ]
  },
  {
   "cell_type": "code",
   "execution_count": 79,
   "metadata": {},
   "outputs": [
    {
     "data": {
      "text/html": [
       "<div style=\"max-height:1000px;max-width:1500px;overflow:auto;\"><table frame=\"box\" rules=\"cols\">\n",
       "    <tr>\n",
       "        <th style=\"padding-left: 1em; padding-right: 1em; text-align: center\">id</th>\n",
       "        <th style=\"padding-left: 1em; padding-right: 1em; text-align: center\">date</th>\n",
       "        <th style=\"padding-left: 1em; padding-right: 1em; text-align: center\">price</th>\n",
       "        <th style=\"padding-left: 1em; padding-right: 1em; text-align: center\">bedrooms</th>\n",
       "        <th style=\"padding-left: 1em; padding-right: 1em; text-align: center\">bathrooms</th>\n",
       "        <th style=\"padding-left: 1em; padding-right: 1em; text-align: center\">sqft_living</th>\n",
       "        <th style=\"padding-left: 1em; padding-right: 1em; text-align: center\">sqft_lot</th>\n",
       "        <th style=\"padding-left: 1em; padding-right: 1em; text-align: center\">floors</th>\n",
       "        <th style=\"padding-left: 1em; padding-right: 1em; text-align: center\">waterfront</th>\n",
       "    </tr>\n",
       "    <tr>\n",
       "        <td style=\"padding-left: 1em; padding-right: 1em; text-align: center; vertical-align: top\">5309101200</td>\n",
       "        <td style=\"padding-left: 1em; padding-right: 1em; text-align: center; vertical-align: top\">2014-06-05 00:00:00+00:00</td>\n",
       "        <td style=\"padding-left: 1em; padding-right: 1em; text-align: center; vertical-align: top\">620000.0</td>\n",
       "        <td style=\"padding-left: 1em; padding-right: 1em; text-align: center; vertical-align: top\">4.0</td>\n",
       "        <td style=\"padding-left: 1em; padding-right: 1em; text-align: center; vertical-align: top\">2.25</td>\n",
       "        <td style=\"padding-left: 1em; padding-right: 1em; text-align: center; vertical-align: top\">2400.0</td>\n",
       "        <td style=\"padding-left: 1em; padding-right: 1em; text-align: center; vertical-align: top\">5350.0</td>\n",
       "        <td style=\"padding-left: 1em; padding-right: 1em; text-align: center; vertical-align: top\">1.5</td>\n",
       "        <td style=\"padding-left: 1em; padding-right: 1em; text-align: center; vertical-align: top\">0</td>\n",
       "    </tr>\n",
       "</table>\n",
       "<table frame=\"box\" rules=\"cols\">\n",
       "    <tr>\n",
       "        <th style=\"padding-left: 1em; padding-right: 1em; text-align: center\">view</th>\n",
       "        <th style=\"padding-left: 1em; padding-right: 1em; text-align: center\">condition</th>\n",
       "        <th style=\"padding-left: 1em; padding-right: 1em; text-align: center\">grade</th>\n",
       "        <th style=\"padding-left: 1em; padding-right: 1em; text-align: center\">sqft_above</th>\n",
       "        <th style=\"padding-left: 1em; padding-right: 1em; text-align: center\">sqft_basement</th>\n",
       "        <th style=\"padding-left: 1em; padding-right: 1em; text-align: center\">yr_built</th>\n",
       "        <th style=\"padding-left: 1em; padding-right: 1em; text-align: center\">yr_renovated</th>\n",
       "        <th style=\"padding-left: 1em; padding-right: 1em; text-align: center\">zipcode</th>\n",
       "        <th style=\"padding-left: 1em; padding-right: 1em; text-align: center\">lat</th>\n",
       "    </tr>\n",
       "    <tr>\n",
       "        <td style=\"padding-left: 1em; padding-right: 1em; text-align: center; vertical-align: top\">0</td>\n",
       "        <td style=\"padding-left: 1em; padding-right: 1em; text-align: center; vertical-align: top\">4</td>\n",
       "        <td style=\"padding-left: 1em; padding-right: 1em; text-align: center; vertical-align: top\">7.0</td>\n",
       "        <td style=\"padding-left: 1em; padding-right: 1em; text-align: center; vertical-align: top\">1460.0</td>\n",
       "        <td style=\"padding-left: 1em; padding-right: 1em; text-align: center; vertical-align: top\">940.0</td>\n",
       "        <td style=\"padding-left: 1em; padding-right: 1em; text-align: center; vertical-align: top\">1929.0</td>\n",
       "        <td style=\"padding-left: 1em; padding-right: 1em; text-align: center; vertical-align: top\">0.0</td>\n",
       "        <td style=\"padding-left: 1em; padding-right: 1em; text-align: center; vertical-align: top\">98117</td>\n",
       "        <td style=\"padding-left: 1em; padding-right: 1em; text-align: center; vertical-align: top\">47.67632376</td>\n",
       "    </tr>\n",
       "</table>\n",
       "<table frame=\"box\" rules=\"cols\">\n",
       "    <tr>\n",
       "        <th style=\"padding-left: 1em; padding-right: 1em; text-align: center\">long</th>\n",
       "        <th style=\"padding-left: 1em; padding-right: 1em; text-align: center\">sqft_living15</th>\n",
       "        <th style=\"padding-left: 1em; padding-right: 1em; text-align: center\">sqft_lot15</th>\n",
       "    </tr>\n",
       "    <tr>\n",
       "        <td style=\"padding-left: 1em; padding-right: 1em; text-align: center; vertical-align: top\">-122.37010126</td>\n",
       "        <td style=\"padding-left: 1em; padding-right: 1em; text-align: center; vertical-align: top\">1250.0</td>\n",
       "        <td style=\"padding-left: 1em; padding-right: 1em; text-align: center; vertical-align: top\">4880.0</td>\n",
       "    </tr>\n",
       "</table>\n",
       "[? rows x 21 columns]<br/>Note: Only the head of the SFrame is printed. This SFrame is lazily evaluated.<br/>You can use sf.materialize() to force materialization.\n",
       "</div>"
      ],
      "text/plain": [
       "Columns:\n",
       "\tid\tstr\n",
       "\tdate\tdatetime\n",
       "\tprice\tfloat\n",
       "\tbedrooms\tfloat\n",
       "\tbathrooms\tfloat\n",
       "\tsqft_living\tfloat\n",
       "\tsqft_lot\tfloat\n",
       "\tfloors\tfloat\n",
       "\twaterfront\tint\n",
       "\tview\tint\n",
       "\tcondition\tint\n",
       "\tgrade\tfloat\n",
       "\tsqft_above\tfloat\n",
       "\tsqft_basement\tfloat\n",
       "\tyr_built\tfloat\n",
       "\tyr_renovated\tfloat\n",
       "\tzipcode\tstr\n",
       "\tlat\tfloat\n",
       "\tlong\tfloat\n",
       "\tsqft_living15\tfloat\n",
       "\tsqft_lot15\tfloat\n",
       "\n",
       "Rows: Unknown\n",
       "\n",
       "Data:\n",
       "+------------+---------------------------+----------+----------+-----------+\n",
       "|     id     |            date           |  price   | bedrooms | bathrooms |\n",
       "+------------+---------------------------+----------+----------+-----------+\n",
       "| 5309101200 | 2014-06-05 00:00:00+00:00 | 620000.0 |   4.0    |    2.25   |\n",
       "+------------+---------------------------+----------+----------+-----------+\n",
       "+-------------+----------+--------+------------+------+-----------+-------+\n",
       "| sqft_living | sqft_lot | floors | waterfront | view | condition | grade |\n",
       "+-------------+----------+--------+------------+------+-----------+-------+\n",
       "|    2400.0   |  5350.0  |  1.5   |     0      |  0   |     4     |  7.0  |\n",
       "+-------------+----------+--------+------------+------+-----------+-------+\n",
       "+------------+---------------+----------+--------------+---------+-------------+\n",
       "| sqft_above | sqft_basement | yr_built | yr_renovated | zipcode |     lat     |\n",
       "+------------+---------------+----------+--------------+---------+-------------+\n",
       "|   1460.0   |     940.0     |  1929.0  |     0.0      |  98117  | 47.67632376 |\n",
       "+------------+---------------+----------+--------------+---------+-------------+\n",
       "+---------------+---------------+-----+\n",
       "|      long     | sqft_living15 | ... |\n",
       "+---------------+---------------+-----+\n",
       "| -122.37010126 |     1250.0    | ... |\n",
       "+---------------+---------------+-----+\n",
       "[? rows x 21 columns]\n",
       "Note: Only the head of the SFrame is printed. This SFrame is lazily evaluated.\n",
       "You can use sf.materialize() to force materialization."
      ]
     },
     "execution_count": 79,
     "metadata": {},
     "output_type": "execute_result"
    }
   ],
   "source": [
    "house1"
   ]
  },
  {
   "cell_type": "code",
   "execution_count": 86,
   "metadata": {},
   "outputs": [
    {
     "name": "stdout",
     "output_type": "stream",
     "text": [
      "the true price of house1: [620000.0]\n",
      "the prices predicted by the model with one features: [629599.2095667497]\n",
      "the prices predicted by the model with six features: [732297.2917174274]\n"
     ]
    }
   ],
   "source": [
    "print(\"the true price of house1: {}\".format(house1['price']))\n",
    "print(\"the prices predicted by the model with one features: {}\".format(mymodel.predict(house1)))\n",
    "print(\"the prices predicted by the model with six features: {}\".format(model2.predict(house1)))"
   ]
  },
  {
   "cell_type": "markdown",
   "metadata": {},
   "source": [
    "<img src=\"http://blue.kingcounty.com/Assessor/eRealProperty/MediaHandler.aspx?Media=2916871\"> "
   ]
  },
  {
   "cell_type": "markdown",
   "metadata": {},
   "source": [
    "### fancier one house2"
   ]
  },
  {
   "cell_type": "code",
   "execution_count": 87,
   "metadata": {},
   "outputs": [],
   "source": [
    "house2 = data1[data1['id']=='1925069082']"
   ]
  },
  {
   "cell_type": "code",
   "execution_count": 88,
   "metadata": {},
   "outputs": [
    {
     "name": "stdout",
     "output_type": "stream",
     "text": [
      "the true price of house2: [2200000.0, ... ]\n",
      "the prices predicted by the model with one features: [1262181.9373079634]\n",
      "the prices predicted by the model with six features: [1235146.721200996]\n"
     ]
    }
   ],
   "source": [
    "print(\"the true price of house2: {}\".format(house2['price']))\n",
    "print(\"the prices predicted by the model with one features: {}\".format(mymodel.predict(house2)))\n",
    "print(\"the prices predicted by the model with six features: {}\".format(model2.predict(house2)))"
   ]
  },
  {
   "cell_type": "markdown",
   "metadata": {},
   "source": [
    "<img src=\"https://ssl.cdn-redfin.com/photo/1/bigphoto/302/734302_0.jpg\">"
   ]
  },
  {
   "cell_type": "markdown",
   "metadata": {},
   "source": [
    "### prediction for super fancy house"
   ]
  },
  {
   "cell_type": "code",
   "execution_count": 89,
   "metadata": {},
   "outputs": [],
   "source": [
    "bill_gates = {'bedrooms':[8], \n",
    "              'bathrooms':[25], \n",
    "              'sqft_living':[50000], \n",
    "              'sqft_lot':[225000],\n",
    "              'floors':[4], \n",
    "              'zipcode':['98039'], \n",
    "              'condition':[10], \n",
    "              'grade':[10],\n",
    "              'waterfront':[1],\n",
    "              'view':[4],\n",
    "              'sqft_above':[37500],\n",
    "              'sqft_basement':[12500],\n",
    "              'yr_built':[1994],\n",
    "              'yr_renovated':[2010],\n",
    "              'lat':[47.627606],\n",
    "              'long':[-122.242054],\n",
    "              'sqft_living15':[5000],\n",
    "              'sqft_lot15':[40000]}"
   ]
  },
  {
   "cell_type": "code",
   "execution_count": 92,
   "metadata": {},
   "outputs": [
    {
     "name": "stdout",
     "output_type": "stream",
     "text": [
      "the prices predicted by the model with one features: [14071982.17406754]\n",
      "the prices predicted by the model with six features: [15029653.330554593]\n"
     ]
    }
   ],
   "source": [
    "print(\"the prices predicted by the model with one features: {}\".format(mymodel.predict(tc.SFrame(bill_gates))))\n",
    "print(\"the prices predicted by the model with six features: {}\".format(model2.predict(tc.SFrame(bill_gates))))"
   ]
  },
  {
   "cell_type": "markdown",
   "metadata": {},
   "source": [
    "<img src=\"https://upload.wikimedia.org/wikipedia/commons/2/26/Residence_of_Bill_Gates.jpg\">"
   ]
  },
  {
   "cell_type": "code",
   "execution_count": null,
   "metadata": {},
   "outputs": [],
   "source": []
  }
 ],
 "metadata": {
  "kernelspec": {
   "display_name": "Python 3",
   "language": "python",
   "name": "python3"
  },
  "language_info": {
   "codemirror_mode": {
    "name": "ipython",
    "version": 3
   },
   "file_extension": ".py",
   "mimetype": "text/x-python",
   "name": "python",
   "nbconvert_exporter": "python",
   "pygments_lexer": "ipython3",
   "version": "3.7.7"
  }
 },
 "nbformat": 4,
 "nbformat_minor": 4
}
