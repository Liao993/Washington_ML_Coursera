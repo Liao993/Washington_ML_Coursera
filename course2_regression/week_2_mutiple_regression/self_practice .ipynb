{
 "cells": [
  {
   "cell_type": "code",
   "execution_count": 3,
   "metadata": {},
   "outputs": [],
   "source": [
    "import turicreate\n",
    "import numpy as np\n",
    "import math"
   ]
  },
  {
   "cell_type": "code",
   "execution_count": 4,
   "metadata": {},
   "outputs": [],
   "source": [
    "sales = turicreate.SFrame('~/Desktop/2.self_learning/coursera_washington/module2_regression/data/home_data.sframe')"
   ]
  },
  {
   "cell_type": "code",
   "execution_count": 6,
   "metadata": {},
   "outputs": [],
   "source": [
    "def get_numpy_data(data, feature, output):\n",
    "    \n",
    "    data['constant'] = 1\n",
    "    chosen_feature = ['constant'] + feature\n",
    "    \n",
    "    feature_array = data[chosen_feature].to_numpy()\n",
    "    output_array  = data[output].to_numpy()\n",
    "    \n",
    "    return(feature_array,output_array)"
   ]
  },
  {
   "cell_type": "code",
   "execution_count": 45,
   "metadata": {},
   "outputs": [],
   "source": [
    "def predicted_output(input_feature, given_weight):\n",
    "    \n",
    "    feature = np.array(input_feature)\n",
    "    weight = np.array(given_weight)\n",
    "    \n",
    "    predicted_value = np.dot(feature,weight)\n",
    "    \n",
    "    return(predicted_value)"
   ]
  },
  {
   "cell_type": "code",
   "execution_count": 61,
   "metadata": {},
   "outputs": [],
   "source": [
    "#derivative = 2 * errors * feature[i]\n",
    "#error = predicted_output - output(true value)\n",
    "def feature_derivative(errors, feature):\n",
    "    \n",
    "    ab = np.dot(errors, feature)\n",
    "    derivative = 2 * ab\n",
    "    \n",
    "    return(derivative)"
   ]
  },
  {
   "cell_type": "code",
   "execution_count": null,
   "metadata": {},
   "outputs": [],
   "source": [
    "def regression_gradient_descent(input_feature, output, initial_weights, step_size, tolerance):\n",
    "    converged = False \n",
    "    weights = np.array(initial_weights) # make sure it's a numpy array\n",
    "    while not converged:\n",
    "        "
   ]
  },
  {
   "cell_type": "markdown",
   "metadata": {},
   "source": [
    "## example practice"
   ]
  },
  {
   "cell_type": "code",
   "execution_count": 44,
   "metadata": {
    "scrolled": true
   },
   "outputs": [
    {
     "name": "stdout",
     "output_type": "stream",
     "text": [
      "[[1.00e+00 1.18e+03]\n",
      " [1.00e+00 2.57e+03]\n",
      " [1.00e+00 7.70e+02]\n",
      " ...\n",
      " [1.00e+00 1.02e+03]\n",
      " [1.00e+00 1.60e+03]\n",
      " [1.00e+00 1.02e+03]]\n",
      "output\n",
      "[221900. 538000. 180000. ... 402101. 400000. 325000.]\n"
     ]
    }
   ],
   "source": [
    "(ex_feature, ex_output) = get_numpy_data(sales,['sqft_living'],'price')\n",
    "\n",
    "print(ex_feature) \n",
    "#[[constant of data_1,sqft_living of data_1 ],[constant of data_2, sqft_living of data_2],...total 21613]\n",
    "\n",
    "print('output')\n",
    "print(ex_output)\n",
    "#[[price of data_1],[price of data_2],[price of data_3],..... total 21613]"
   ]
  },
  {
   "cell_type": "code",
   "execution_count": 46,
   "metadata": {},
   "outputs": [
    {
     "name": "stdout",
     "output_type": "stream",
     "text": [
      "[1181. 2571.  771. ... 1021. 1601. 1021.]\n"
     ]
    }
   ],
   "source": [
    "my_weight = np.array([1,1])\n",
    "\n",
    "print(predicted_output(ex_feature,my_weight)) #value of feature multiple weight for 21613 data"
   ]
  },
  {
   "cell_type": "code",
   "execution_count": 67,
   "metadata": {},
   "outputs": [
    {
     "name": "stdout",
     "output_type": "stream",
     "text": [
      "(21613,)\n",
      "(21613,)\n",
      "(21613,)\n",
      "(21613, 2)\n"
     ]
    }
   ],
   "source": [
    "prediction = predicted_output(ex_feature, my_weight)\n",
    "error = prediction - ex_output\n",
    "print(prediction.shape)\n",
    "print(ex_output.shape)\n",
    "print(error.shape)\n",
    "print(ex_feature.shape)"
   ]
  },
  {
   "cell_type": "code",
   "execution_count": 81,
   "metadata": {},
   "outputs": [
    {
     "name": "stdout",
     "output_type": "stream",
     "text": [
      "-23255901050.0\n",
      "-23255901050.0\n"
     ]
    }
   ],
   "source": [
    "ans = feature_derivative(error, ex_feature[:,0]) #ex_feature[:,0] = [1,1,1,1,1,1]\n",
    "print(ans)\n",
    "\n",
    "# actually is the 2 * (total of errors (21613 data))\n",
    "ans2 = sum(error)*2\n",
    "print(ans2)"
   ]
  },
  {
   "cell_type": "code",
   "execution_count": 1,
   "metadata": {},
   "outputs": [],
   "source": [
    "import numpy as np"
   ]
  },
  {
   "cell_type": "code",
   "execution_count": 6,
   "metadata": {},
   "outputs": [],
   "source": [
    "x=np.array([[1,2,3],[3,4,5]])"
   ]
  },
  {
   "cell_type": "code",
   "execution_count": 9,
   "metadata": {},
   "outputs": [
    {
     "data": {
      "text/plain": [
       "(3, 2)"
      ]
     },
     "execution_count": 9,
     "metadata": {},
     "output_type": "execute_result"
    }
   ],
   "source": [
    "x.T.shape"
   ]
  },
  {
   "cell_type": "code",
   "execution_count": 11,
   "metadata": {},
   "outputs": [
    {
     "data": {
      "text/plain": [
       "(2, 3)"
      ]
     },
     "execution_count": 11,
     "metadata": {},
     "output_type": "execute_result"
    }
   ],
   "source": [
    "x.shape"
   ]
  },
  {
   "cell_type": "code",
   "execution_count": null,
   "metadata": {},
   "outputs": [],
   "source": []
  }
 ],
 "metadata": {
  "kernelspec": {
   "display_name": "Python 3",
   "language": "python",
   "name": "python3"
  },
  "language_info": {
   "codemirror_mode": {
    "name": "ipython",
    "version": 3
   },
   "file_extension": ".py",
   "mimetype": "text/x-python",
   "name": "python",
   "nbconvert_exporter": "python",
   "pygments_lexer": "ipython3",
   "version": "3.7.7"
  },
  "toc": {
   "base_numbering": 1,
   "nav_menu": {},
   "number_sections": true,
   "sideBar": true,
   "skip_h1_title": false,
   "title_cell": "Table of Contents",
   "title_sidebar": "Contents",
   "toc_cell": false,
   "toc_position": {},
   "toc_section_display": true,
   "toc_window_display": false
  }
 },
 "nbformat": 4,
 "nbformat_minor": 4
}
